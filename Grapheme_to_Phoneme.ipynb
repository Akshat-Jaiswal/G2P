{
  "nbformat": 4,
  "nbformat_minor": 0,
  "metadata": {
    "colab": {
      "name": "Grapheme to Phoneme.ipynb",
      "provenance": [],
      "collapsed_sections": [
        "JXl0EDlcq1AD",
        "-DY9Fsml6OLO"
      ],
      "toc_visible": true,
      "authorship_tag": "ABX9TyO2BGx3yKFJ3N0jl4nyNyEr",
      "include_colab_link": true
    },
    "kernelspec": {
      "name": "python3",
      "display_name": "Python 3"
    },
    "accelerator": "GPU"
  },
  "cells": [
    {
      "cell_type": "markdown",
      "metadata": {
        "id": "view-in-github",
        "colab_type": "text"
      },
      "source": [
        "<a href=\"https://colab.research.google.com/github/Akshat-Jaiswal/G2P/blob/master/Grapheme_to_Phoneme.ipynb\" target=\"_parent\"><img src=\"https://colab.research.google.com/assets/colab-badge.svg\" alt=\"Open In Colab\"/></a>"
      ]
    },
    {
      "cell_type": "markdown",
      "metadata": {
        "id": "Emlfj045Wa4X",
        "colab_type": "text"
      },
      "source": [
        "# Grapheme to Phoneme Convertor using Transformer"
      ]
    },
    {
      "cell_type": "markdown",
      "metadata": {
        "id": "wk4B2WHYYCaI",
        "colab_type": "text"
      },
      "source": [
        "**Problem Statement** : Given an orthographic representation of a word in a language generate it phonemic transcription.\n",
        "\n",
        "\n",
        "**Intuition** :\n",
        "The core idea behind this experiment is to apply ideas from neural machine translation to a similar seq2seq prediction task. An input word can be considered as sequence of sub tokens (single or group of characters) which need to be translated into another sequence, namely its phonemic transcript. Phonetic Alphabets are nothing but word in another langauge which makes this problem very similar to machine translation.\n",
        "\n",
        "\n",
        "**Data Description** : In this implementation we'll be using CMUDict, a publicly available English Pronunciation Dictionary. For more details: http://www.speech.cs.cmu.edu/cgi-bin/cmudict.\n",
        "\n",
        "\n",
        "**References** :\n",
        "\n",
        "* The method used in this implementation is described in \n",
        "```\n",
        "Yolchuyeva, Sevinj, Géza Németh, and Bálint Gyires-Tóth. \"Transformer based Grapheme-to-Phoneme Conversion.\" arXiv preprint arXiv:2004.06338 (2020).\n",
        "```\n",
        "* Tensorflow Transformer tutorials:\n",
        "https://www.tensorflow.org/tutorials/text/transformer"
      ]
    },
    {
      "cell_type": "code",
      "metadata": {
        "id": "d58Nr_3gWPtY",
        "colab_type": "code",
        "colab": {}
      },
      "source": [
        "## base imports \n",
        "import tensorflow as tf\n",
        "import pandas as pd\n",
        "import numpy as np\n",
        "import tensorflow_datasets as tfds\n",
        "import matplotlib.pyplot as plt\n",
        "import pandas as pd"
      ],
      "execution_count": 0,
      "outputs": []
    },
    {
      "cell_type": "code",
      "metadata": {
        "id": "Ks7GIDn-Wf_D",
        "colab_type": "code",
        "outputId": "88daa860-da74-46c6-a998-a5703138841f",
        "colab": {
          "base_uri": "https://localhost:8080/",
          "height": 34
        }
      },
      "source": [
        "print(tf.__version__)"
      ],
      "execution_count": 2,
      "outputs": [
        {
          "output_type": "stream",
          "text": [
            "2.2.0-rc4\n"
          ],
          "name": "stdout"
        }
      ]
    },
    {
      "cell_type": "markdown",
      "metadata": {
        "id": "iamij34oW2aH",
        "colab_type": "text"
      },
      "source": [
        "### Download data from CMU sphinx"
      ]
    },
    {
      "cell_type": "code",
      "metadata": {
        "id": "8SDG1HunW8Hv",
        "colab_type": "code",
        "outputId": "043a14a0-eb3c-474a-b508-c57ec281735e",
        "colab": {
          "base_uri": "https://localhost:8080/",
          "height": 391
        }
      },
      "source": [
        "!wget --no-check-certificate http://svn.code.sf.net/p/cmusphinx/code/trunk/cmudict/sphinxdict/cmudict_SPHINX_40 -O /tmp/word2pron.tsv\n",
        "!wget --no-check-certificate http://svn.code.sf.net/p/cmusphinx/code/trunk/cmudict/sphinxdict/SphinxPhones_40 -O /tmp/labels.txt"
      ],
      "execution_count": 3,
      "outputs": [
        {
          "output_type": "stream",
          "text": [
            "--2020-05-10 16:44:54--  http://svn.code.sf.net/p/cmusphinx/code/trunk/cmudict/sphinxdict/cmudict_SPHINX_40\n",
            "Resolving svn.code.sf.net (svn.code.sf.net)... 216.105.38.17\n",
            "Connecting to svn.code.sf.net (svn.code.sf.net)|216.105.38.17|:80... connected.\n",
            "HTTP request sent, awaiting response... 200 OK\n",
            "Length: 3364453 (3.2M) [text/plain]\n",
            "Saving to: ‘/tmp/word2pron.tsv’\n",
            "\n",
            "/tmp/word2pron.tsv  100%[===================>]   3.21M  3.22MB/s    in 1.0s    \n",
            "\n",
            "2020-05-10 16:44:55 (3.22 MB/s) - ‘/tmp/word2pron.tsv’ saved [3364453/3364453]\n",
            "\n",
            "--2020-05-10 16:44:57--  http://svn.code.sf.net/p/cmusphinx/code/trunk/cmudict/sphinxdict/SphinxPhones_40\n",
            "Resolving svn.code.sf.net (svn.code.sf.net)... 216.105.38.17\n",
            "Connecting to svn.code.sf.net (svn.code.sf.net)|216.105.38.17|:80... connected.\n",
            "HTTP request sent, awaiting response... 200 OK\n",
            "Length: 105 [text/plain]\n",
            "Saving to: ‘/tmp/labels.txt’\n",
            "\n",
            "/tmp/labels.txt     100%[===================>]     105  --.-KB/s    in 0s      \n",
            "\n",
            "2020-05-10 16:44:57 (16.7 MB/s) - ‘/tmp/labels.txt’ saved [105/105]\n",
            "\n"
          ],
          "name": "stdout"
        }
      ]
    },
    {
      "cell_type": "markdown",
      "metadata": {
        "id": "KnjezIfSmtvL",
        "colab_type": "text"
      },
      "source": [
        "## Data Preperation"
      ]
    },
    {
      "cell_type": "markdown",
      "metadata": {
        "id": "qXC8DyejXbPa",
        "colab_type": "text"
      },
      "source": [
        "### Read and split data in train, valid and test sets"
      ]
    },
    {
      "cell_type": "code",
      "metadata": {
        "id": "Xtc0shAYXFhs",
        "colab_type": "code",
        "colab": {}
      },
      "source": [
        "import re\n",
        "features = []\n",
        "labels = []\n",
        "with open(\"/tmp/word2pron.tsv\", \"r\") as f:\n",
        "  for line in f:\n",
        "    X,Y = line.split(\"\\t\")\n",
        "    ## TODO : think of some better strategy for handling those\n",
        "    ## initial symbols with multiple pronunciations\n",
        "    features.append(re.sub(\"\\(.*\\)\",\"\", X.strip())) ## abc(2) -> abc\n",
        "    labels.append(Y.strip())\n",
        "label_names = []\n",
        "with open(\"/tmp/labels.txt\") as f:\n",
        "  label_names = [line.strip() for line in f]"
      ],
      "execution_count": 0,
      "outputs": []
    },
    {
      "cell_type": "code",
      "metadata": {
        "id": "zH7dVfTsYIhN",
        "colab_type": "code",
        "outputId": "250dbefd-5f49-44a8-c8e5-a2821e6b4bb8",
        "colab": {
          "base_uri": "https://localhost:8080/",
          "height": 119
        }
      },
      "source": [
        "pron_len = list(len(f.split(' ')) for f in labels)\n",
        "print(f\"Total Number of Words : {len(features)}\")\n",
        "print(f\"Max length of words : {max(len(f) for f in features)}\")\n",
        "print(f\"Max tokens in pronunciation : {np.max(pron_len)}\")\n",
        "print(f\"Min tokens in pronunciation : {np.min(pron_len)}\")\n",
        "print(f\"Average tokens in pronunciation : {np.mean(pron_len)}\")\n",
        "print(f\"Number of Distinct Phonemes : {len(label_names)}\")\n"
      ],
      "execution_count": 5,
      "outputs": [
        {
          "output_type": "stream",
          "text": [
            "Total Number of Words : 133031\n",
            "Max length of words : 33\n",
            "Max tokens in pronunciation : 32\n",
            "Min tokens in pronunciation : 1\n",
            "Average tokens in pronunciation : 6.380550398027528\n",
            "Number of Distinct Phonemes : 40\n"
          ],
          "name": "stdout"
        }
      ]
    },
    {
      "cell_type": "code",
      "metadata": {
        "id": "BB5N-4-agwue",
        "colab_type": "code",
        "colab": {}
      },
      "source": [
        "from sklearn.model_selection import train_test_split\n",
        "## TODO make it generic\n",
        "def split_data(features, labels, split_sizes = [0.80, 0.05, 0.15]):\n",
        "  assert len(features) == len(labels)\n",
        "  assert len(split_sizes) == 3\n",
        "  train_X, test_X, train_Y, test_Y  = train_test_split(features, labels,test_size = np.sum(split_sizes[1:]))\n",
        "  valid_X, test_X, valid_Y, test_Y = train_test_split(test_X, test_Y, test_size = np.sum(split_sizes[2:])/np.sum(split_sizes[1:]))\n",
        "  return (train_X, train_Y), (valid_X, valid_Y), (test_X, test_Y)\n"
      ],
      "execution_count": 0,
      "outputs": []
    },
    {
      "cell_type": "code",
      "metadata": {
        "id": "f4KKQ-CZN-o0",
        "colab_type": "code",
        "outputId": "7097ff5b-98e1-4d85-85b8-c4e85357946c",
        "colab": {
          "base_uri": "https://localhost:8080/",
          "height": 68
        }
      },
      "source": [
        "(train_X, train_Y), (valid_X, valid_Y), (test_X, test_Y) = split_data(features,labels)\n",
        "print(f\"Train Data : {len(train_X)}, {len(train_Y)}\")\n",
        "print(f\"Validation Data : {len(valid_X)}, {len(valid_Y)}\")\n",
        "print(f\"Test Data : {len(test_X)}, {len(test_Y)}\")"
      ],
      "execution_count": 7,
      "outputs": [
        {
          "output_type": "stream",
          "text": [
            "Train Data : 106424, 106424\n",
            "Validation Data : 6651, 6651\n",
            "Test Data : 19956, 19956\n"
          ],
          "name": "stdout"
        }
      ]
    },
    {
      "cell_type": "markdown",
      "metadata": {
        "id": "Lprh8CgeSBVH",
        "colab_type": "text"
      },
      "source": [
        "### Data Exploration"
      ]
    },
    {
      "cell_type": "code",
      "metadata": {
        "id": "4yU-MECfSRPn",
        "colab_type": "code",
        "outputId": "49545282-51d6-42d8-d2cb-05db2cb35abc",
        "colab": {
          "base_uri": "https://localhost:8080/",
          "height": 638
        }
      },
      "source": [
        "prons = [pron.split(\" \") for pron in labels]\n",
        "phons = pd.Series([phon for pron in prons for phon in pron])\n",
        "ax = phons.value_counts().plot(kind=\"barh\", figsize=(10,10), title = \"Phoneme Count\")\n",
        "ax.set_xlabel(\"frequency\")\n",
        "ax.set_ylabel(\"phoneme\")"
      ],
      "execution_count": 8,
      "outputs": [
        {
          "output_type": "execute_result",
          "data": {
            "text/plain": [
              "Text(0, 0.5, 'phoneme')"
            ]
          },
          "metadata": {
            "tags": []
          },
          "execution_count": 8
        },
        {
          "output_type": "display_data",
          "data": {
            "image/png": "[encoded data removed]",
            "text/plain": [
              "<Figure size 720x720 with 1 Axes>"
            ]
          },
          "metadata": {
            "tags": [],
            "needs_background": "light"
          }
        }
      ]
    },
    {
      "cell_type": "code",
      "metadata": {
        "id": "rJF4RiiWXmbR",
        "colab_type": "code",
        "outputId": "41dd0603-1505-41cd-dec2-428a992ca20d",
        "colab": {
          "base_uri": "https://localhost:8080/",
          "height": 367
        }
      },
      "source": [
        "pron_lens = pd.Series([len(pron) for pron in prons])\n",
        "f, (ax1, ax2) = plt.subplots(1, 2, figsize=(10,5))\n",
        "pron_lens.value_counts().sort_index().plot(kind = \"barh\", title = \"Pronunciation Lengths Frequency\", ax = ax1)\n",
        "pron_lens.plot(kind = \"box\", title = \"Pronunciation Length Distribution\", ax = ax2)\n",
        "ax1.set_ylabel(\"Phon Count\")\n",
        "ax1.set_xlabel(\"Frequency\")\n",
        "ax2.set_ylabel(\"Phon Count\")"
      ],
      "execution_count": 9,
      "outputs": [
        {
          "output_type": "execute_result",
          "data": {
            "text/plain": [
              "Text(0, 0.5, 'Phon Count')"
            ]
          },
          "metadata": {
            "tags": []
          },
          "execution_count": 9
        },
        {
          "output_type": "display_data",
          "data": {
            "image/png": "[encoded data removed]",
            "text/plain": [
              "<Figure size 720x360 with 2 Axes>"
            ]
          },
          "metadata": {
            "tags": [],
            "needs_background": "light"
          }
        }
      ]
    },
    {
      "cell_type": "code",
      "metadata": {
        "id": "uBI3Z_1ZYUi6",
        "colab_type": "code",
        "outputId": "9c9d860d-724f-4da4-c2d6-b0782d03a15a",
        "colab": {
          "base_uri": "https://localhost:8080/",
          "height": 353
        }
      },
      "source": [
        "word_lens = pd.Series([len(word) for word in features])\n",
        "f, (ax1, ax2) = plt.subplots(1, 2, figsize=(10,5))\n",
        "word_lens.value_counts().sort_index().plot(kind = \"barh\", title = \"Word Lengths Frequency\", ax = ax1)\n",
        "word_lens.plot(kind = \"box\", title = \"Word Length Distribution\", ax = ax2)\n",
        "ax1.set_ylabel(\"length\")\n",
        "ax2.set_ylabel(\"length\")"
      ],
      "execution_count": 10,
      "outputs": [
        {
          "output_type": "execute_result",
          "data": {
            "text/plain": [
              "Text(0, 0.5, 'length')"
            ]
          },
          "metadata": {
            "tags": []
          },
          "execution_count": 10
        },
        {
          "output_type": "display_data",
          "data": {
            "image/png": "[encoded data removed]",
            "text/plain": [
              "<Figure size 720x360 with 2 Axes>"
            ]
          },
          "metadata": {
            "tags": [],
            "needs_background": "light"
          }
        }
      ]
    },
    {
      "cell_type": "code",
      "metadata": {
        "id": "odQkoXUxYt05",
        "colab_type": "code",
        "outputId": "70c5a4a0-798f-49be-c04f-63cdce886bb8",
        "colab": {
          "base_uri": "https://localhost:8080/",
          "height": 282
        }
      },
      "source": [
        "## Is it a simple character -> phoneme mapping ?\n",
        "diff = word_lens - pron_lens\n",
        "diff.plot(kind = \"hist\")"
      ],
      "execution_count": 11,
      "outputs": [
        {
          "output_type": "execute_result",
          "data": {
            "text/plain": [
              "<matplotlib.axes._subplots.AxesSubplot at 0x7fe4f7001e48>"
            ]
          },
          "metadata": {
            "tags": []
          },
          "execution_count": 11
        },
        {
          "output_type": "display_data",
          "data": {
            "image/png": "[encoded data removed]",
            "text/plain": [
              "<Figure size 432x288 with 1 Axes>"
            ]
          },
          "metadata": {
            "tags": [],
            "needs_background": "light"
          }
        }
      ]
    },
    {
      "cell_type": "markdown",
      "metadata": {
        "id": "zeH_vLnsOoXK",
        "colab_type": "text"
      },
      "source": [
        "### Convert to tensorflow datasets"
      ]
    },
    {
      "cell_type": "code",
      "metadata": {
        "id": "WL00qrkMOn3N",
        "colab_type": "code",
        "colab": {}
      },
      "source": [
        "train_data = tf.data.Dataset.from_tensor_slices((train_X, train_Y))\n",
        "valid_data = tf.data.Dataset.from_tensor_slices((valid_X, valid_Y))\n",
        "test_data = tf.data.Dataset.from_tensor_slices((test_X, test_Y))"
      ],
      "execution_count": 0,
      "outputs": []
    },
    {
      "cell_type": "code",
      "metadata": {
        "id": "XGhr_gfCPGaZ",
        "colab_type": "code",
        "outputId": "488f2503-7c58-4ea3-f511-68917cddc46e",
        "colab": {
          "base_uri": "https://localhost:8080/",
          "height": 68
        }
      },
      "source": [
        "## print shapes of data\n",
        "print(train_data)\n",
        "for feature, label in train_data.take(1):\n",
        "  print(feature)\n",
        "  print(label)"
      ],
      "execution_count": 13,
      "outputs": [
        {
          "output_type": "stream",
          "text": [
            "<TensorSliceDataset shapes: ((), ()), types: (tf.string, tf.string)>\n",
            "tf.Tensor(b\"GOZO'S\", shape=(), dtype=string)\n",
            "tf.Tensor(b'G OW Z OW Z', shape=(), dtype=string)\n"
          ],
          "name": "stdout"
        }
      ]
    },
    {
      "cell_type": "markdown",
      "metadata": {
        "id": "bW7bK1z0aa_f",
        "colab_type": "text"
      },
      "source": [
        "### Build Tokenizers for Words and Pronunciations"
      ]
    },
    {
      "cell_type": "code",
      "metadata": {
        "id": "r4eZpECgZL39",
        "colab_type": "code",
        "outputId": "d2a697ff-1e12-423e-e290-96c5ca4b84c9",
        "colab": {
          "base_uri": "https://localhost:8080/",
          "height": 68
        }
      },
      "source": [
        "## self note : label_names were already in upper case so no conversion was required\n",
        "pron_tokenizer = tfds.features.text.TokenTextEncoder(label_names)\n",
        "print(f\"Vocab Size : {pron_tokenizer.vocab_size}\")\n",
        "## sample encode/decode example\n",
        "encoded = pron_tokenizer.encode(\"B EH D S AY D\")\n",
        "print(f\"encoded : {encoded}\")\n",
        "print(f\"decoded : {pron_tokenizer.decode(encoded)}\")"
      ],
      "execution_count": 14,
      "outputs": [
        {
          "output_type": "stream",
          "text": [
            "Vocab Size : 42\n",
            "encoded : [7, 11, 9, 29, 6, 9]\n",
            "decoded : B EH D S AY D\n"
          ],
          "name": "stdout"
        }
      ]
    },
    {
      "cell_type": "code",
      "metadata": {
        "id": "O81WajZ4b9wF",
        "colab_type": "code",
        "outputId": "cd9696a1-3ce0-44c9-d427-c4b84814e7ca",
        "colab": {
          "base_uri": "https://localhost:8080/",
          "height": 51
        }
      },
      "source": [
        "## self note : all the words were already upper cased \n",
        "word_tokenizer = tfds.features.text.SubwordTextEncoder.build_from_corpus([ word.numpy() for word, pron in train_data], target_vocab_size=2**13)\n",
        "# sample encode/decode example\n",
        "encoded = word_tokenizer.encode(\"BEDSIDE\")\n",
        "print(f\"encoded : {encoded}\")\n",
        "print(f\"decoded : {word_tokenizer.decode(encoded)}\")\n"
      ],
      "execution_count": 15,
      "outputs": [
        {
          "output_type": "stream",
          "text": [
            "encoded : [274, 728]\n",
            "decoded : BEDSIDE\n"
          ],
          "name": "stdout"
        }
      ]
    },
    {
      "cell_type": "markdown",
      "metadata": {
        "id": "NuQmyUq4gYT_",
        "colab_type": "text"
      },
      "source": [
        "### Process datasets using tokenizers"
      ]
    },
    {
      "cell_type": "code",
      "metadata": {
        "id": "kJL6GLKGdB3m",
        "colab_type": "code",
        "colab": {}
      },
      "source": [
        "MAX_LENGTH = 40\n",
        "## append a start and end token along with encoded\n",
        "def encode(word, pron):\n",
        "  encoded_word = [word_tokenizer.vocab_size] + word_tokenizer.encode(word.numpy()) + [word_tokenizer.vocab_size + 1]\n",
        "  encoded_pron = [pron_tokenizer.vocab_size] + pron_tokenizer.encode(pron.numpy()) + [pron_tokenizer.vocab_size + 1]\n",
        "  word_len = len(encoded_word)\n",
        "  pron_len = len(encoded_pron)\n",
        "  ## TODO: use an inbuilt padding function from tensorflow\n",
        "  return ( encoded_word + [0]*(MAX_LENGTH - word_len),\n",
        "           encoded_pron + [0]*(MAX_LENGTH - pron_len))\n",
        "\n",
        "## wrapped function for use with tf.datasets map function\n",
        "def tf_encode(word, pron):\n",
        "  result_word, result_pron = tf.py_function(encode, [word, pron], [tf.int64, tf.int64])\n",
        "  result_word.set_shape([None])\n",
        "  result_pron.set_shape([None])\n",
        "  return result_word, result_pron"
      ],
      "execution_count": 0,
      "outputs": []
    },
    {
      "cell_type": "code",
      "metadata": {
        "id": "mOX9IVMCehtd",
        "colab_type": "code",
        "colab": {}
      },
      "source": [
        "BUFFER_SIZE = 1024\n",
        "BATCH_SIZE = 128\n",
        "train_dataset = (train_data.map(tf_encode)\n",
        "                          .cache()\n",
        "                          .shuffle(BUFFER_SIZE)\n",
        "                          .batch(BATCH_SIZE)\n",
        "                          .prefetch(tf.data.experimental.AUTOTUNE))\n",
        "\n",
        "valid_dataset = (valid_data.map(tf_encode)\n",
        "                          .shuffle(BUFFER_SIZE)\n",
        "                          .padded_batch(BATCH_SIZE))\n",
        "\n",
        "test_dataset = (test_data.map(tf_encode)\n",
        "                          .shuffle(BUFFER_SIZE)\n",
        "                          .batch(BATCH_SIZE))\n"
      ],
      "execution_count": 0,
      "outputs": []
    },
    {
      "cell_type": "code",
      "metadata": {
        "id": "phvEU2yje9Gc",
        "colab_type": "code",
        "outputId": "f849ee1f-7c10-44f2-c6e8-28ee3b063282",
        "colab": {
          "base_uri": "https://localhost:8080/",
          "height": 340
        }
      },
      "source": [
        "print(train_dataset)\n",
        "print(valid_dataset)\n",
        "print(test_dataset)\n",
        "word_batch, pron_batch = next(iter(valid_dataset))\n",
        "print(word_batch)\n",
        "print(pron_batch)"
      ],
      "execution_count": 18,
      "outputs": [
        {
          "output_type": "stream",
          "text": [
            "<PrefetchDataset shapes: ((None, None), (None, None)), types: (tf.int64, tf.int64)>\n",
            "<PaddedBatchDataset shapes: ((None, None), (None, None)), types: (tf.int64, tf.int64)>\n",
            "<BatchDataset shapes: ((None, None), (None, None)), types: (tf.int64, tf.int64)>\n",
            "tf.Tensor(\n",
            "[[7921 4003 7747 ...    0    0    0]\n",
            " [7921  100 4331 ...    0    0    0]\n",
            " [7921  293  209 ...    0    0    0]\n",
            " ...\n",
            " [7921  743 7922 ...    0    0    0]\n",
            " [7921 7008 4996 ...    0    0    0]\n",
            " [7921 4383  318 ...    0    0    0]], shape=(128, 40), dtype=int64)\n",
            "tf.Tensor(\n",
            "[[42 16  2 ...  0  0  0]\n",
            " [42 28 26 ...  0  0  0]\n",
            " [42 29 11 ...  0  0  0]\n",
            " ...\n",
            " [42  9 18 ...  0  0  0]\n",
            " [42 27 28 ...  0  0  0]\n",
            " [42 14 11 ...  0  0  0]], shape=(128, 40), dtype=int64)\n"
          ],
          "name": "stdout"
        }
      ]
    },
    {
      "cell_type": "markdown",
      "metadata": {
        "id": "4uAxjTVam3Du",
        "colab_type": "text"
      },
      "source": [
        "## Training"
      ]
    },
    {
      "cell_type": "markdown",
      "metadata": {
        "id": "JXl0EDlcq1AD",
        "colab_type": "text"
      },
      "source": [
        "### Helpers"
      ]
    },
    {
      "cell_type": "code",
      "metadata": {
        "id": "TnmpJYQCgjXh",
        "colab_type": "code",
        "colab": {}
      },
      "source": [
        "## Positional Encoding helpers\n",
        "def get_angles(pos, i, d_model):\n",
        "  angle_rates = 1 / np.power(10000, (2 * (i//2)) / np.float32(d_model))\n",
        "  return pos * angle_rates\n",
        "\n",
        "def positional_encoding(position, d_model):\n",
        "  angle_rads = get_angles(np.arange(position)[:, np.newaxis],\n",
        "                          np.arange(d_model)[np.newaxis, :],\n",
        "                          d_model)\n",
        "  \n",
        "  # apply sin to even indices in the array; 2i\n",
        "  angle_rads[:, 0::2] = np.sin(angle_rads[:, 0::2])\n",
        "  \n",
        "  # apply cos to odd indices in the array; 2i+1\n",
        "  angle_rads[:, 1::2] = np.cos(angle_rads[:, 1::2])\n",
        "    \n",
        "  pos_encoding = angle_rads[np.newaxis, ...]\n",
        "    \n",
        "  return tf.cast(pos_encoding, dtype=tf.float32)"
      ],
      "execution_count": 0,
      "outputs": []
    },
    {
      "cell_type": "code",
      "metadata": {
        "id": "OwwW44y5g9VZ",
        "colab_type": "code",
        "colab": {}
      },
      "source": [
        "## Masking Helpers\n",
        "def create_padding_mask(seq):\n",
        "  seq = tf.cast(tf.math.equal(seq, 0), tf.float32)\n",
        "  \n",
        "  # add extra dimensions to add the padding\n",
        "  # to the attention logits.\n",
        "  return seq[:, tf.newaxis, tf.newaxis, :]  # (batch_size, 1, 1, seq_len)\n",
        "\n",
        "def create_look_ahead_mask(size):\n",
        "  mask = 1 - tf.linalg.band_part(tf.ones((size, size)), -1, 0)\n",
        "  return mask  # (seq_len, seq_len)"
      ],
      "execution_count": 0,
      "outputs": []
    },
    {
      "cell_type": "code",
      "metadata": {
        "id": "B4D0OdIQhgkl",
        "colab_type": "code",
        "colab": {}
      },
      "source": [
        "## Attention Helpers\n",
        "def scaled_dot_product_attention(q, k, v, mask):\n",
        "  \"\"\"Calculate the attention weights.\n",
        "  q, k, v must have matching leading dimensions.\n",
        "  k, v must have matching penultimate dimension, i.e.: seq_len_k = seq_len_v.\n",
        "  The mask has different shapes depending on its type(padding or look ahead) \n",
        "  but it must be broadcastable for addition.\n",
        "  \n",
        "  Args:\n",
        "    q: query shape == (..., seq_len_q, depth)\n",
        "    k: key shape == (..., seq_len_k, depth)\n",
        "    v: value shape == (..., seq_len_v, depth_v)\n",
        "    mask: Float tensor with shape broadcastable \n",
        "          to (..., seq_len_q, seq_len_k). Defaults to None.\n",
        "    \n",
        "  Returns:\n",
        "    output, attention_weights\n",
        "  \"\"\"\n",
        "\n",
        "  matmul_qk = tf.matmul(q, k, transpose_b=True)  # (..., seq_len_q, seq_len_k)\n",
        "  \n",
        "  # scale matmul_qk\n",
        "  dk = tf.cast(tf.shape(k)[-1], tf.float32)\n",
        "  scaled_attention_logits = matmul_qk / tf.math.sqrt(dk)\n",
        "\n",
        "  # add the mask to the scaled tensor.\n",
        "  if mask is not None:\n",
        "    scaled_attention_logits += (mask * -1e9)  \n",
        "\n",
        "  # softmax is normalized on the last axis (seq_len_k) so that the scores\n",
        "  # add up to 1.\n",
        "  attention_weights = tf.nn.softmax(scaled_attention_logits, axis=-1)  # (..., seq_len_q, seq_len_k)\n",
        "\n",
        "  output = tf.matmul(attention_weights, v)  # (..., seq_len_q, depth_v)\n",
        "\n",
        "  return output, attention_weights"
      ],
      "execution_count": 0,
      "outputs": []
    },
    {
      "cell_type": "markdown",
      "metadata": {
        "id": "-DY9Fsml6OLO",
        "colab_type": "text"
      },
      "source": [
        "### Model Layers"
      ]
    },
    {
      "cell_type": "code",
      "metadata": {
        "id": "07z7glq-iFXl",
        "colab_type": "code",
        "colab": {}
      },
      "source": [
        "## MultiHead Attention layer\n",
        "class MultiHeadAttention(tf.keras.layers.Layer):\n",
        "  def __init__(self, d_model, num_heads):\n",
        "    super(MultiHeadAttention, self).__init__()\n",
        "    self.num_heads = num_heads\n",
        "    self.d_model = d_model\n",
        "    \n",
        "    assert d_model % self.num_heads == 0\n",
        "    \n",
        "    self.depth = d_model // self.num_heads\n",
        "    \n",
        "    self.wq = tf.keras.layers.Dense(d_model)\n",
        "    self.wk = tf.keras.layers.Dense(d_model)\n",
        "    self.wv = tf.keras.layers.Dense(d_model)\n",
        "    \n",
        "    self.dense = tf.keras.layers.Dense(d_model)\n",
        "        \n",
        "  def split_heads(self, x, batch_size):\n",
        "    \"\"\"Split the last dimension into (num_heads, depth).\n",
        "    Transpose the result such that the shape is (batch_size, num_heads, seq_len, depth)\n",
        "    \"\"\"\n",
        "    x = tf.reshape(x, (batch_size, -1, self.num_heads, self.depth))\n",
        "    return tf.transpose(x, perm=[0, 2, 1, 3])\n",
        "    \n",
        "  def call(self, v, k, q, mask):\n",
        "    batch_size = tf.shape(q)[0]\n",
        "    \n",
        "    q = self.wq(q)  # (batch_size, seq_len, d_model)\n",
        "    k = self.wk(k)  # (batch_size, seq_len, d_model)\n",
        "    v = self.wv(v)  # (batch_size, seq_len, d_model)\n",
        "    \n",
        "    q = self.split_heads(q, batch_size)  # (batch_size, num_heads, seq_len_q, depth)\n",
        "    k = self.split_heads(k, batch_size)  # (batch_size, num_heads, seq_len_k, depth)\n",
        "    v = self.split_heads(v, batch_size)  # (batch_size, num_heads, seq_len_v, depth)\n",
        "    \n",
        "    # scaled_attention.shape == (batch_size, num_heads, seq_len_q, depth)\n",
        "    # attention_weights.shape == (batch_size, num_heads, seq_len_q, seq_len_k)\n",
        "    scaled_attention, attention_weights = scaled_dot_product_attention(\n",
        "        q, k, v, mask)\n",
        "    \n",
        "    scaled_attention = tf.transpose(scaled_attention, perm=[0, 2, 1, 3])  # (batch_size, seq_len_q, num_heads, depth)\n",
        "\n",
        "    concat_attention = tf.reshape(scaled_attention, \n",
        "                                  (batch_size, -1, self.d_model))  # (batch_size, seq_len_q, d_model)\n",
        "\n",
        "    output = self.dense(concat_attention)  # (batch_size, seq_len_q, d_model)\n",
        "        \n",
        "    return output, attention_weights"
      ],
      "execution_count": 0,
      "outputs": []
    },
    {
      "cell_type": "code",
      "metadata": {
        "id": "dNyNvL2siQWj",
        "colab_type": "code",
        "colab": {}
      },
      "source": [
        "def point_wise_feed_forward_network(d_model, dff):\n",
        "  return tf.keras.Sequential([\n",
        "      tf.keras.layers.Dense(dff, activation='relu'),  # (batch_size, seq_len, dff)\n",
        "      tf.keras.layers.Dense(d_model)  # (batch_size, seq_len, d_model)\n",
        "  ])"
      ],
      "execution_count": 0,
      "outputs": []
    },
    {
      "cell_type": "code",
      "metadata": {
        "id": "Ws3H4UGciaJq",
        "colab_type": "code",
        "colab": {}
      },
      "source": [
        "class EncoderLayer(tf.keras.layers.Layer):\n",
        "  def __init__(self, d_model, num_heads, dff, rate=0.1):\n",
        "    super(EncoderLayer, self).__init__()\n",
        "\n",
        "    self.mha = MultiHeadAttention(d_model, num_heads)\n",
        "    self.ffn = point_wise_feed_forward_network(d_model, dff)\n",
        "\n",
        "    self.layernorm1 = tf.keras.layers.LayerNormalization(epsilon=1e-6)\n",
        "    self.layernorm2 = tf.keras.layers.LayerNormalization(epsilon=1e-6)\n",
        "    \n",
        "    self.dropout1 = tf.keras.layers.Dropout(rate)\n",
        "    self.dropout2 = tf.keras.layers.Dropout(rate)\n",
        "    \n",
        "  def call(self, x, training, mask):\n",
        "\n",
        "    attn_output, _ = self.mha(x, x, x, mask)  # (batch_size, input_seq_len, d_model)\n",
        "    attn_output = self.dropout1(attn_output, training=training)\n",
        "    out1 = self.layernorm1(x + attn_output)  # (batch_size, input_seq_len, d_model)\n",
        "    \n",
        "    ffn_output = self.ffn(out1)  # (batch_size, input_seq_len, d_model)\n",
        "    ffn_output = self.dropout2(ffn_output, training=training)\n",
        "    out2 = self.layernorm2(out1 + ffn_output)  # (batch_size, input_seq_len, d_model)\n",
        "    \n",
        "    return out2"
      ],
      "execution_count": 0,
      "outputs": []
    },
    {
      "cell_type": "code",
      "metadata": {
        "id": "lSs7eAgHib0i",
        "colab_type": "code",
        "colab": {}
      },
      "source": [
        "class DecoderLayer(tf.keras.layers.Layer):\n",
        "  def __init__(self, d_model, num_heads, dff, rate=0.1):\n",
        "    super(DecoderLayer, self).__init__()\n",
        "\n",
        "    self.mha1 = MultiHeadAttention(d_model, num_heads)\n",
        "    self.mha2 = MultiHeadAttention(d_model, num_heads)\n",
        "\n",
        "    self.ffn = point_wise_feed_forward_network(d_model, dff)\n",
        " \n",
        "    self.layernorm1 = tf.keras.layers.LayerNormalization(epsilon=1e-6)\n",
        "    self.layernorm2 = tf.keras.layers.LayerNormalization(epsilon=1e-6)\n",
        "    self.layernorm3 = tf.keras.layers.LayerNormalization(epsilon=1e-6)\n",
        "    \n",
        "    self.dropout1 = tf.keras.layers.Dropout(rate)\n",
        "    self.dropout2 = tf.keras.layers.Dropout(rate)\n",
        "    self.dropout3 = tf.keras.layers.Dropout(rate)\n",
        "    \n",
        "    \n",
        "  def call(self, x, enc_output, training, \n",
        "           look_ahead_mask, padding_mask):\n",
        "    # enc_output.shape == (batch_size, input_seq_len, d_model)\n",
        "\n",
        "    attn1, attn_weights_block1 = self.mha1(x, x, x, look_ahead_mask)  # (batch_size, target_seq_len, d_model)\n",
        "    attn1 = self.dropout1(attn1, training=training)\n",
        "    out1 = self.layernorm1(attn1 + x)\n",
        "    \n",
        "    attn2, attn_weights_block2 = self.mha2(\n",
        "        enc_output, enc_output, out1, padding_mask)  # (batch_size, target_seq_len, d_model)\n",
        "    attn2 = self.dropout2(attn2, training=training)\n",
        "    out2 = self.layernorm2(attn2 + out1)  # (batch_size, target_seq_len, d_model)\n",
        "    \n",
        "    ffn_output = self.ffn(out2)  # (batch_size, target_seq_len, d_model)\n",
        "    ffn_output = self.dropout3(ffn_output, training=training)\n",
        "    out3 = self.layernorm3(ffn_output + out2)  # (batch_size, target_seq_len, d_model)\n",
        "    \n",
        "    return out3, attn_weights_block1, attn_weights_block2"
      ],
      "execution_count": 0,
      "outputs": []
    },
    {
      "cell_type": "code",
      "metadata": {
        "id": "ioWVpttcifxs",
        "colab_type": "code",
        "colab": {}
      },
      "source": [
        "class Encoder(tf.keras.layers.Layer):\n",
        "  def __init__(self, num_layers, d_model, num_heads, dff, input_vocab_size,\n",
        "               maximum_position_encoding, rate=0.1):\n",
        "    super(Encoder, self).__init__()\n",
        "\n",
        "    self.d_model = d_model\n",
        "    self.num_layers = num_layers\n",
        "    \n",
        "    self.embedding = tf.keras.layers.Embedding(input_vocab_size, d_model)\n",
        "    self.pos_encoding = positional_encoding(maximum_position_encoding, \n",
        "                                            self.d_model)\n",
        "    \n",
        "    \n",
        "    self.enc_layers = [EncoderLayer(d_model, num_heads, dff, rate) \n",
        "                       for _ in range(num_layers)]\n",
        "  \n",
        "    self.dropout = tf.keras.layers.Dropout(rate)\n",
        "        \n",
        "  def call(self, x, training, mask):\n",
        "\n",
        "    seq_len = tf.shape(x)[1]\n",
        "    \n",
        "    # adding embedding and position encoding.\n",
        "    x = self.embedding(x)  # (batch_size, input_seq_len, d_model)\n",
        "    x *= tf.math.sqrt(tf.cast(self.d_model, tf.float32))\n",
        "    x += self.pos_encoding[:, :seq_len, :]\n",
        "\n",
        "    x = self.dropout(x, training=training)\n",
        "    \n",
        "    for i in range(self.num_layers):\n",
        "      x = self.enc_layers[i](x, training, mask)\n",
        "    \n",
        "    return x  # (batch_size, input_seq_len, d_model)"
      ],
      "execution_count": 0,
      "outputs": []
    },
    {
      "cell_type": "code",
      "metadata": {
        "id": "TZ7VL2IAirDd",
        "colab_type": "code",
        "colab": {}
      },
      "source": [
        "class Decoder(tf.keras.layers.Layer):\n",
        "  def __init__(self, num_layers, d_model, num_heads, dff, target_vocab_size,\n",
        "               maximum_position_encoding, rate=0.1):\n",
        "    super(Decoder, self).__init__()\n",
        "\n",
        "    self.d_model = d_model\n",
        "    self.num_layers = num_layers\n",
        "    \n",
        "    self.embedding = tf.keras.layers.Embedding(target_vocab_size, d_model)\n",
        "    self.pos_encoding = positional_encoding(maximum_position_encoding, d_model)\n",
        "    \n",
        "    self.dec_layers = [DecoderLayer(d_model, num_heads, dff, rate) \n",
        "                       for _ in range(num_layers)]\n",
        "    self.dropout = tf.keras.layers.Dropout(rate)\n",
        "    \n",
        "  def call(self, x, enc_output, training, \n",
        "           look_ahead_mask, padding_mask):\n",
        "\n",
        "    seq_len = tf.shape(x)[1]\n",
        "    attention_weights = {}\n",
        "    \n",
        "    x = self.embedding(x)  # (batch_size, target_seq_len, d_model)\n",
        "    x *= tf.math.sqrt(tf.cast(self.d_model, tf.float32))\n",
        "    x += self.pos_encoding[:, :seq_len, :]\n",
        "    \n",
        "    x = self.dropout(x, training=training)\n",
        "\n",
        "    for i in range(self.num_layers):\n",
        "      x, block1, block2 = self.dec_layers[i](x, enc_output, training,\n",
        "                                             look_ahead_mask, padding_mask)\n",
        "      \n",
        "      attention_weights['decoder_layer{}_block1'.format(i+1)] = block1\n",
        "      attention_weights['decoder_layer{}_block2'.format(i+1)] = block2\n",
        "    \n",
        "    # x.shape == (batch_size, target_seq_len, d_model)\n",
        "    return x, attention_weights"
      ],
      "execution_count": 0,
      "outputs": []
    },
    {
      "cell_type": "markdown",
      "metadata": {
        "id": "5M66PVDj6jvH",
        "colab_type": "text"
      },
      "source": [
        "### Model Definition"
      ]
    },
    {
      "cell_type": "code",
      "metadata": {
        "id": "v_8IUSWAjBNG",
        "colab_type": "code",
        "colab": {}
      },
      "source": [
        "class Transformer(tf.keras.Model):\n",
        "  def __init__(self, num_layers, d_model, num_heads, dff, input_vocab_size, \n",
        "               target_vocab_size, pe_input, pe_target, rate=0.1):\n",
        "    super(Transformer, self).__init__()\n",
        "\n",
        "    self.encoder = Encoder(num_layers, d_model, num_heads, dff, \n",
        "                           input_vocab_size, pe_input, rate)\n",
        "\n",
        "    self.decoder = Decoder(num_layers, d_model, num_heads, dff, \n",
        "                           target_vocab_size, pe_target, rate)\n",
        "\n",
        "    self.final_layer = tf.keras.layers.Dense(target_vocab_size)\n",
        "    \n",
        "  def call(self, inp, tar, training, enc_padding_mask, \n",
        "           look_ahead_mask, dec_padding_mask):\n",
        "\n",
        "    enc_output = self.encoder(inp, training, enc_padding_mask)  # (batch_size, inp_seq_len, d_model)\n",
        "    \n",
        "    # dec_output.shape == (batch_size, tar_seq_len, d_model)\n",
        "    dec_output, attention_weights = self.decoder(\n",
        "        tar, enc_output, training, look_ahead_mask, dec_padding_mask)\n",
        "    \n",
        "    final_output = self.final_layer(dec_output)  # (batch_size, tar_seq_len, target_vocab_size)\n",
        "    \n",
        "    return final_output, attention_weights"
      ],
      "execution_count": 0,
      "outputs": []
    },
    {
      "cell_type": "code",
      "metadata": {
        "id": "qMG_gb2fjRHj",
        "colab_type": "code",
        "colab": {}
      },
      "source": [
        "## Model Hyper parameters\n",
        "num_layers = 4\n",
        "d_model = 128\n",
        "dff = 512\n",
        "num_heads = 4\n",
        "\n",
        "input_vocab_size = word_tokenizer.vocab_size + 2\n",
        "target_vocab_size = pron_tokenizer.vocab_size + 2\n",
        "dropout_rate = 0.1"
      ],
      "execution_count": 0,
      "outputs": []
    },
    {
      "cell_type": "code",
      "metadata": {
        "id": "Y6xwDTFhjgfD",
        "colab_type": "code",
        "colab": {}
      },
      "source": [
        "class CustomSchedule(tf.keras.optimizers.schedules.LearningRateSchedule):\n",
        "  def __init__(self, d_model, warmup_steps=4000):\n",
        "    super(CustomSchedule, self).__init__()\n",
        "    \n",
        "    self.d_model = d_model\n",
        "    self.d_model = tf.cast(self.d_model, tf.float32)\n",
        "\n",
        "    self.warmup_steps = warmup_steps\n",
        "    \n",
        "  def __call__(self, step):\n",
        "    arg1 = tf.math.rsqrt(step)\n",
        "    arg2 = step * (self.warmup_steps ** -1.5)\n",
        "    \n",
        "    return tf.math.rsqrt(self.d_model) * tf.math.minimum(arg1, arg2)"
      ],
      "execution_count": 0,
      "outputs": []
    },
    {
      "cell_type": "code",
      "metadata": {
        "id": "ycyiW2Pdjtw2",
        "colab_type": "code",
        "colab": {}
      },
      "source": [
        "learning_rate = CustomSchedule(d_model)\n",
        "\n",
        "optimizer = tf.keras.optimizers.Adam(learning_rate, beta_1=0.9, beta_2=0.98, \n",
        "                                     epsilon=1e-9)"
      ],
      "execution_count": 0,
      "outputs": []
    },
    {
      "cell_type": "code",
      "metadata": {
        "id": "CcZv5qK3C8CI",
        "colab_type": "code",
        "colab": {}
      },
      "source": [
        "### Masked Loss and Accuracy Functions as Input could be padded\n",
        "loss_object = tf.keras.losses.SparseCategoricalCrossentropy(\n",
        "    from_logits=True, reduction='none')\n",
        "\n",
        "def loss(real, pred):\n",
        "  '''\n",
        "  Masked Sparse Categorical Cross Entropy for 0 padded input\n",
        "  '''\n",
        "  mask = tf.math.logical_not(tf.math.equal(real, 0))\n",
        "  loss_ = loss_object(real, pred)\n",
        "\n",
        "  mask = tf.cast(mask, dtype=loss_.dtype)\n",
        "  loss_ *= mask\n",
        "  \n",
        "  return tf.reduce_sum(loss_)/tf.reduce_sum(mask)\n",
        "\n",
        "def accuracy(real, pred):\n",
        "  '''\n",
        "  Masked Sparse Categorical Accuracy for 0 padded labels\n",
        "  '''\n",
        "  mask = tf.math.logical_not(tf.math.equal(real, 0))\n",
        "  acc_ = tf.math.equal(tf.cast(real, tf.int64), tf.math.argmax(pred, axis=-1))\n",
        "  acc_ = tf.cast(acc_, dtype=tf.int64)\n",
        "  mask = tf.cast(mask, dtype=acc_.dtype)\n",
        "  acc_ *= mask\n",
        "  return tf.reduce_sum(acc_)/tf.reduce_sum(mask)\n",
        "\n",
        "## Metrics\n",
        "loss_metric = tf.keras.metrics.Mean(\"loss\")\n",
        "val_loss_metric = tf.keras.metrics.Mean(\"val_loss\")\n",
        "accuracy_metric = tf.keras.metrics.Mean(\"accuracy\")\n",
        "val_accuracy_metric = tf.keras.metrics.Mean(\"val_accuracy\")"
      ],
      "execution_count": 0,
      "outputs": []
    },
    {
      "cell_type": "code",
      "metadata": {
        "id": "3DeP44Bpm66V",
        "colab_type": "code",
        "colab": {}
      },
      "source": [
        "transformer = Transformer(num_layers, d_model, num_heads, dff,\n",
        "                          input_vocab_size, target_vocab_size, \n",
        "                          pe_input=input_vocab_size, \n",
        "                          pe_target=target_vocab_size,\n",
        "                          rate=dropout_rate)"
      ],
      "execution_count": 0,
      "outputs": []
    },
    {
      "cell_type": "code",
      "metadata": {
        "id": "8fIDQ5bwFRsq",
        "colab_type": "code",
        "colab": {}
      },
      "source": [
        "checkpoint_path = \"./checkpoints/train\"\n",
        "\n",
        "ckpt = tf.train.Checkpoint(transformer=transformer,\n",
        "                           optimizer=optimizer)\n",
        "\n",
        "ckpt_manager = tf.train.CheckpointManager(ckpt, checkpoint_path, max_to_keep=5)\n",
        "\n",
        "# if a checkpoint exists, restore the latest checkpoint.\n",
        "if ckpt_manager.latest_checkpoint:\n",
        "  ckpt.restore(ckpt_manager.latest_checkpoint)\n",
        "  print ('Latest checkpoint restored!!')"
      ],
      "execution_count": 0,
      "outputs": []
    },
    {
      "cell_type": "markdown",
      "metadata": {
        "id": "4QT3uOkbq6R2",
        "colab_type": "text"
      },
      "source": [
        "### Actual Training"
      ]
    },
    {
      "cell_type": "code",
      "metadata": {
        "id": "7fU160fHn6lT",
        "colab_type": "code",
        "colab": {}
      },
      "source": [
        "EPOCHS = 20"
      ],
      "execution_count": 0,
      "outputs": []
    },
    {
      "cell_type": "code",
      "metadata": {
        "id": "_Ubx-1VQkH27",
        "colab_type": "code",
        "colab": {}
      },
      "source": [
        "def create_masks(inp, tar):\n",
        "  # Encoder padding mask\n",
        "  enc_padding_mask = create_padding_mask(inp)\n",
        "  \n",
        "  # Used in the 2nd attention block in the decoder.\n",
        "  # This padding mask is used to mask the encoder outputs.\n",
        "  dec_padding_mask = create_padding_mask(inp)\n",
        "  \n",
        "  # Used in the 1st attention block in the decoder.\n",
        "  # It is used to pad and mask future tokens in the input received by \n",
        "  # the decoder.\n",
        "  look_ahead_mask = create_look_ahead_mask(tf.shape(tar)[1])\n",
        "  dec_target_padding_mask = create_padding_mask(tar)\n",
        "  combined_mask = tf.maximum(dec_target_padding_mask, look_ahead_mask)\n",
        "  \n",
        "  return enc_padding_mask, combined_mask, dec_padding_mask"
      ],
      "execution_count": 0,
      "outputs": []
    },
    {
      "cell_type": "code",
      "metadata": {
        "id": "hSTnMRqckWia",
        "colab_type": "code",
        "colab": {}
      },
      "source": [
        "# The @tf.function trace-compiles train_step into a TF graph for faster\n",
        "# execution. The function specializes to the precise shape of the argument\n",
        "# tensors. To avoid re-tracing due to the variable sequence lengths or variable\n",
        "# batch sizes (the last batch is smaller), use input_signature to specify\n",
        "# more generic shapes.\n",
        "\n",
        "train_step_signature = [\n",
        "    tf.TensorSpec(shape=(None, None), dtype=tf.int64),\n",
        "    tf.TensorSpec(shape=(None, None), dtype=tf.int64),\n",
        "]\n",
        "eval_step_signature = [\n",
        "    tf.TensorSpec(shape=(None, None), dtype=tf.int64),\n",
        "    tf.TensorSpec(shape=(None, None), dtype=tf.int64),                       \n",
        "]\n",
        "\n",
        "@tf.function(input_signature=train_step_signature)\n",
        "def train_step(inp, tar):\n",
        "  tar_inp = tar[:, :-1]\n",
        "  tar_real = tar[:, 1:]\n",
        "  \n",
        "  enc_padding_mask, combined_mask, dec_padding_mask = create_masks(inp, tar_inp)\n",
        "  \n",
        "  with tf.GradientTape() as tape:\n",
        "    predictions, _ = transformer(inp, tar_inp, \n",
        "                                 True, \n",
        "                                 enc_padding_mask, \n",
        "                                 combined_mask, \n",
        "                                 dec_padding_mask)\n",
        "    padded_loss = loss(tar_real, predictions)\n",
        "\n",
        "  gradients = tape.gradient(padded_loss, transformer.trainable_variables)    \n",
        "  optimizer.apply_gradients(zip(gradients, transformer.trainable_variables))\n",
        "  \n",
        "  loss_metric(padded_loss)\n",
        "  accuracy_metric(accuracy(tar_real, predictions))\n",
        "\n",
        "@tf.function(input_signature=eval_step_signature)\n",
        "def eval_step(inp, tar):\n",
        "  tar_inp = tar[:, :-1]\n",
        "  tar_real = tar[:, 1:]\n",
        "  \n",
        "  enc_padding_mask, combined_mask, dec_padding_mask = create_masks(inp, tar_inp)  \n",
        "  predictions, _ = transformer(inp, tar_inp, \n",
        "                                False,  # prediction \n",
        "                                enc_padding_mask, \n",
        "                                combined_mask, \n",
        "                                dec_padding_mask)\n",
        "  padded_loss = loss(tar_real, predictions)  \n",
        "  val_loss_metric(padded_loss)\n",
        "  val_accuracy_metric(accuracy(tar_real, predictions))\n"
      ],
      "execution_count": 0,
      "outputs": []
    },
    {
      "cell_type": "code",
      "metadata": {
        "id": "YjFgr657lGLx",
        "colab_type": "code",
        "outputId": "d4d004bf-1574-4604-a9ed-41e3eea04373",
        "colab": {
          "base_uri": "https://localhost:8080/",
          "height": 1000
        }
      },
      "source": [
        "import time\n",
        "\n",
        "history = dict()\n",
        "for metric in [loss_metric, val_loss_metric, accuracy_metric, val_accuracy_metric]:\n",
        "  history[metric.name] = []\n",
        "\n",
        "for epoch in range(EPOCHS):\n",
        "  start = time.time()\n",
        "  \n",
        "  loss_metric.reset_states()\n",
        "  accuracy_metric.reset_states()\n",
        "  val_loss_metric.reset_states() \n",
        "  val_accuracy_metric.reset_states()\n",
        "\n",
        "  # Training Phase\n",
        "  # inp -> word, tar -> pronunciation\n",
        "  for (batch, (inp, tar)) in enumerate(train_dataset):\n",
        "    train_step(inp, tar)\n",
        "    \n",
        "    if batch % 50 == 0:\n",
        "      print ('Epoch {} Batch {} Loss {:.4f} Accuracy {:.4f}'.format(\n",
        "          epoch + 1, batch, loss_metric.result(), accuracy_metric.result()))\n",
        "\n",
        "  # Evaluation Phase\n",
        "  for inp, tar in valid_dataset:\n",
        "    eval_step(inp, tar)\n",
        "\n",
        "  if (epoch + 1) % 5 == 0:\n",
        "    ckpt_save_path = ckpt_manager.save()\n",
        "    print ('Saving checkpoint for epoch {} at {}'.format(epoch+1,\n",
        "                                                         ckpt_save_path))\n",
        "  for metric in [loss_metric, val_loss_metric, accuracy_metric, val_accuracy_metric]:\n",
        "    history[metric.name].append(metric.result())\n",
        "\n",
        "  print ('Epoch {} Loss {:.4f} Accuracy {:.4f}'.format(epoch + 1, \n",
        "                                                loss_metric.result(), \n",
        "                                                accuracy_metric.result()))\n",
        "\n",
        "  print ('Epoch {} Val_Loss {:.4f} Val_Accuracy {:.4f}'.format(epoch + 1, \n",
        "                                                val_loss_metric.result(), \n",
        "                                                val_accuracy_metric.result()))\n",
        "\n",
        "  print ('Time taken for 1 epoch: {} secs\\n'.format(time.time() - start))"
      ],
      "execution_count": 38,
      "outputs": [
        {
          "output_type": "stream",
          "text": [
            "Epoch 1 Batch 0 Loss 4.3534 Accuracy 0.0308\n",
            "Epoch 1 Batch 50 Loss 3.9672 Accuracy 0.0640\n",
            "Epoch 1 Batch 100 Loss 3.6920 Accuracy 0.0921\n",
            "Epoch 1 Batch 150 Loss 3.5583 Accuracy 0.1085\n",
            "Epoch 1 Batch 200 Loss 3.4590 Accuracy 0.1229\n",
            "Epoch 1 Batch 250 Loss 3.3828 Accuracy 0.1348\n",
            "Epoch 1 Batch 300 Loss 3.3099 Accuracy 0.1465\n",
            "Epoch 1 Batch 350 Loss 3.2362 Accuracy 0.1577\n",
            "Epoch 1 Batch 400 Loss 3.1714 Accuracy 0.1674\n",
            "Epoch 1 Batch 450 Loss 3.1134 Accuracy 0.1765\n",
            "Epoch 1 Batch 500 Loss 3.0614 Accuracy 0.1850\n",
            "Epoch 1 Batch 550 Loss 3.0143 Accuracy 0.1930\n",
            "Epoch 1 Batch 600 Loss 2.9708 Accuracy 0.2008\n",
            "Epoch 1 Batch 650 Loss 2.9310 Accuracy 0.2081\n",
            "Epoch 1 Batch 700 Loss 2.8936 Accuracy 0.2153\n",
            "Epoch 1 Batch 750 Loss 2.8584 Accuracy 0.2222\n",
            "Epoch 1 Batch 800 Loss 2.8259 Accuracy 0.2289\n",
            "Epoch 1 Loss 2.8062 Accuracy 0.2328\n",
            "Epoch 1 Val_Loss 2.1636 Val_Accuracy 0.3739\n",
            "Time taken for 1 epoch: 163.1176688671112 secs\n",
            "\n",
            "Epoch 2 Batch 0 Loss 2.3037 Accuracy 0.3532\n",
            "Epoch 2 Batch 50 Loss 2.2566 Accuracy 0.3484\n",
            "Epoch 2 Batch 100 Loss 2.2399 Accuracy 0.3524\n",
            "Epoch 2 Batch 150 Loss 2.2225 Accuracy 0.3581\n",
            "Epoch 2 Batch 200 Loss 2.2016 Accuracy 0.3638\n",
            "Epoch 2 Batch 250 Loss 2.1837 Accuracy 0.3688\n",
            "Epoch 2 Batch 300 Loss 2.1667 Accuracy 0.3731\n",
            "Epoch 2 Batch 350 Loss 2.1473 Accuracy 0.3783\n",
            "Epoch 2 Batch 400 Loss 2.1281 Accuracy 0.3835\n",
            "Epoch 2 Batch 450 Loss 2.1095 Accuracy 0.3886\n",
            "Epoch 2 Batch 500 Loss 2.0891 Accuracy 0.3944\n",
            "Epoch 2 Batch 550 Loss 2.0685 Accuracy 0.4001\n",
            "Epoch 2 Batch 600 Loss 2.0458 Accuracy 0.4064\n",
            "Epoch 2 Batch 650 Loss 2.0243 Accuracy 0.4124\n",
            "Epoch 2 Batch 700 Loss 2.0015 Accuracy 0.4187\n",
            "Epoch 2 Batch 750 Loss 1.9775 Accuracy 0.4254\n",
            "Epoch 2 Batch 800 Loss 1.9508 Accuracy 0.4329\n",
            "Epoch 2 Loss 1.9333 Accuracy 0.4378\n",
            "Epoch 2 Val_Loss 1.2306 Val_Accuracy 0.6380\n",
            "Time taken for 1 epoch: 135.3066644668579 secs\n",
            "\n",
            "Epoch 3 Batch 0 Loss 1.3987 Accuracy 0.5946\n",
            "Epoch 3 Batch 50 Loss 1.3964 Accuracy 0.5912\n",
            "Epoch 3 Batch 100 Loss 1.3677 Accuracy 0.5986\n",
            "Epoch 3 Batch 150 Loss 1.3363 Accuracy 0.6071\n",
            "Epoch 3 Batch 200 Loss 1.3010 Accuracy 0.6174\n",
            "Epoch 3 Batch 250 Loss 1.2735 Accuracy 0.6249\n",
            "Epoch 3 Batch 300 Loss 1.2473 Accuracy 0.6321\n",
            "Epoch 3 Batch 350 Loss 1.2218 Accuracy 0.6394\n",
            "Epoch 3 Batch 400 Loss 1.1984 Accuracy 0.6462\n",
            "Epoch 3 Batch 450 Loss 1.1778 Accuracy 0.6522\n",
            "Epoch 3 Batch 500 Loss 1.1565 Accuracy 0.6584\n",
            "Epoch 3 Batch 550 Loss 1.1361 Accuracy 0.6645\n",
            "Epoch 3 Batch 600 Loss 1.1171 Accuracy 0.6700\n",
            "Epoch 3 Batch 650 Loss 1.0989 Accuracy 0.6753\n",
            "Epoch 3 Batch 700 Loss 1.0818 Accuracy 0.6801\n",
            "Epoch 3 Batch 750 Loss 1.0657 Accuracy 0.6846\n",
            "Epoch 3 Batch 800 Loss 1.0504 Accuracy 0.6889\n",
            "Epoch 3 Loss 1.0417 Accuracy 0.6914\n",
            "Epoch 3 Val_Loss 0.6124 Val_Accuracy 0.8178\n",
            "Time taken for 1 epoch: 134.90410375595093 secs\n",
            "\n",
            "Epoch 4 Batch 0 Loss 0.7328 Accuracy 0.7693\n",
            "Epoch 4 Batch 50 Loss 0.7808 Accuracy 0.7664\n",
            "Epoch 4 Batch 100 Loss 0.7772 Accuracy 0.7676\n",
            "Epoch 4 Batch 150 Loss 0.7701 Accuracy 0.7687\n",
            "Epoch 4 Batch 200 Loss 0.7584 Accuracy 0.7722\n",
            "Epoch 4 Batch 250 Loss 0.7509 Accuracy 0.7746\n",
            "Epoch 4 Batch 300 Loss 0.7462 Accuracy 0.7756\n",
            "Epoch 4 Batch 350 Loss 0.7377 Accuracy 0.7783\n",
            "Epoch 4 Batch 400 Loss 0.7313 Accuracy 0.7799\n",
            "Epoch 4 Batch 450 Loss 0.7240 Accuracy 0.7819\n",
            "Epoch 4 Batch 500 Loss 0.7181 Accuracy 0.7835\n",
            "Epoch 4 Batch 550 Loss 0.7134 Accuracy 0.7848\n",
            "Epoch 4 Batch 600 Loss 0.7074 Accuracy 0.7867\n",
            "Epoch 4 Batch 650 Loss 0.7024 Accuracy 0.7881\n",
            "Epoch 4 Batch 700 Loss 0.6977 Accuracy 0.7894\n",
            "Epoch 4 Batch 750 Loss 0.6931 Accuracy 0.7908\n",
            "Epoch 4 Batch 800 Loss 0.6884 Accuracy 0.7921\n",
            "Epoch 4 Loss 0.6864 Accuracy 0.7926\n",
            "Epoch 4 Val_Loss 0.4827 Val_Accuracy 0.8539\n",
            "Time taken for 1 epoch: 135.42509365081787 secs\n",
            "\n",
            "Epoch 5 Batch 0 Loss 0.6849 Accuracy 0.7981\n",
            "Epoch 5 Batch 50 Loss 0.6033 Accuracy 0.8168\n",
            "Epoch 5 Batch 100 Loss 0.6023 Accuracy 0.8176\n",
            "Epoch 5 Batch 150 Loss 0.5954 Accuracy 0.8201\n",
            "Epoch 5 Batch 200 Loss 0.5919 Accuracy 0.8209\n",
            "Epoch 5 Batch 250 Loss 0.5910 Accuracy 0.8209\n",
            "Epoch 5 Batch 300 Loss 0.5888 Accuracy 0.8211\n",
            "Epoch 5 Batch 350 Loss 0.5858 Accuracy 0.8219\n",
            "Epoch 5 Batch 400 Loss 0.5834 Accuracy 0.8226\n",
            "Epoch 5 Batch 450 Loss 0.5798 Accuracy 0.8235\n",
            "Epoch 5 Batch 500 Loss 0.5780 Accuracy 0.8240\n",
            "Epoch 5 Batch 550 Loss 0.5764 Accuracy 0.8246\n",
            "Epoch 5 Batch 600 Loss 0.5738 Accuracy 0.8253\n",
            "Epoch 5 Batch 650 Loss 0.5711 Accuracy 0.8260\n",
            "Epoch 5 Batch 700 Loss 0.5688 Accuracy 0.8266\n",
            "Epoch 5 Batch 750 Loss 0.5668 Accuracy 0.8272\n",
            "Epoch 5 Batch 800 Loss 0.5640 Accuracy 0.8279\n",
            "Saving checkpoint for epoch 5 at ./checkpoints/train/ckpt-1\n",
            "Epoch 5 Loss 0.5627 Accuracy 0.8284\n",
            "Epoch 5 Val_Loss 0.4190 Val_Accuracy 0.8717\n",
            "Time taken for 1 epoch: 135.25197076797485 secs\n",
            "\n",
            "Epoch 6 Batch 0 Loss 0.4470 Accuracy 0.8537\n",
            "Epoch 6 Batch 50 Loss 0.5280 Accuracy 0.8373\n",
            "Epoch 6 Batch 100 Loss 0.5203 Accuracy 0.8403\n",
            "Epoch 6 Batch 150 Loss 0.5131 Accuracy 0.8421\n",
            "Epoch 6 Batch 200 Loss 0.5090 Accuracy 0.8433\n",
            "Epoch 6 Batch 250 Loss 0.5042 Accuracy 0.8445\n",
            "Epoch 6 Batch 300 Loss 0.5001 Accuracy 0.8454\n",
            "Epoch 6 Batch 350 Loss 0.4966 Accuracy 0.8464\n",
            "Epoch 6 Batch 400 Loss 0.4932 Accuracy 0.8475\n",
            "Epoch 6 Batch 450 Loss 0.4906 Accuracy 0.8482\n",
            "Epoch 6 Batch 500 Loss 0.4872 Accuracy 0.8492\n",
            "Epoch 6 Batch 550 Loss 0.4846 Accuracy 0.8503\n",
            "Epoch 6 Batch 600 Loss 0.4811 Accuracy 0.8514\n",
            "Epoch 6 Batch 650 Loss 0.4781 Accuracy 0.8523\n",
            "Epoch 6 Batch 700 Loss 0.4758 Accuracy 0.8529\n",
            "Epoch 6 Batch 750 Loss 0.4724 Accuracy 0.8538\n",
            "Epoch 6 Batch 800 Loss 0.4694 Accuracy 0.8547\n",
            "Epoch 6 Loss 0.4684 Accuracy 0.8550\n",
            "Epoch 6 Val_Loss 0.3546 Val_Accuracy 0.8891\n",
            "Time taken for 1 epoch: 134.4771111011505 secs\n",
            "\n",
            "Epoch 7 Batch 0 Loss 0.4189 Accuracy 0.8644\n",
            "Epoch 7 Batch 50 Loss 0.4215 Accuracy 0.8706\n",
            "Epoch 7 Batch 100 Loss 0.4222 Accuracy 0.8691\n",
            "Epoch 7 Batch 150 Loss 0.4197 Accuracy 0.8695\n",
            "Epoch 7 Batch 200 Loss 0.4150 Accuracy 0.8709\n",
            "Epoch 7 Batch 250 Loss 0.4128 Accuracy 0.8713\n",
            "Epoch 7 Batch 300 Loss 0.4111 Accuracy 0.8713\n",
            "Epoch 7 Batch 350 Loss 0.4089 Accuracy 0.8721\n",
            "Epoch 7 Batch 400 Loss 0.4065 Accuracy 0.8728\n",
            "Epoch 7 Batch 450 Loss 0.4042 Accuracy 0.8736\n",
            "Epoch 7 Batch 500 Loss 0.4041 Accuracy 0.8735\n",
            "Epoch 7 Batch 550 Loss 0.4027 Accuracy 0.8739\n",
            "Epoch 7 Batch 600 Loss 0.4013 Accuracy 0.8745\n",
            "Epoch 7 Batch 650 Loss 0.3996 Accuracy 0.8749\n",
            "Epoch 7 Batch 700 Loss 0.3978 Accuracy 0.8754\n",
            "Epoch 7 Batch 750 Loss 0.3962 Accuracy 0.8759\n",
            "Epoch 7 Batch 800 Loss 0.3951 Accuracy 0.8761\n",
            "Epoch 7 Loss 0.3946 Accuracy 0.8763\n",
            "Epoch 7 Val_Loss 0.3184 Val_Accuracy 0.9011\n",
            "Time taken for 1 epoch: 134.68353414535522 secs\n",
            "\n",
            "Epoch 8 Batch 0 Loss 0.3389 Accuracy 0.9046\n",
            "Epoch 8 Batch 50 Loss 0.3705 Accuracy 0.8840\n",
            "Epoch 8 Batch 100 Loss 0.3657 Accuracy 0.8849\n",
            "Epoch 8 Batch 150 Loss 0.3650 Accuracy 0.8852\n",
            "Epoch 8 Batch 200 Loss 0.3633 Accuracy 0.8855\n",
            "Epoch 8 Batch 250 Loss 0.3615 Accuracy 0.8861\n",
            "Epoch 8 Batch 300 Loss 0.3604 Accuracy 0.8863\n",
            "Epoch 8 Batch 350 Loss 0.3593 Accuracy 0.8868\n",
            "Epoch 8 Batch 400 Loss 0.3584 Accuracy 0.8871\n",
            "Epoch 8 Batch 450 Loss 0.3572 Accuracy 0.8875\n",
            "Epoch 8 Batch 500 Loss 0.3563 Accuracy 0.8877\n",
            "Epoch 8 Batch 550 Loss 0.3558 Accuracy 0.8878\n",
            "Epoch 8 Batch 600 Loss 0.3536 Accuracy 0.8886\n",
            "Epoch 8 Batch 650 Loss 0.3522 Accuracy 0.8890\n",
            "Epoch 8 Batch 700 Loss 0.3510 Accuracy 0.8892\n",
            "Epoch 8 Batch 750 Loss 0.3495 Accuracy 0.8896\n",
            "Epoch 8 Batch 800 Loss 0.3487 Accuracy 0.8898\n",
            "Epoch 8 Loss 0.3485 Accuracy 0.8899\n",
            "Epoch 8 Val_Loss 0.2951 Val_Accuracy 0.9065\n",
            "Time taken for 1 epoch: 134.04695010185242 secs\n",
            "\n",
            "Epoch 9 Batch 0 Loss 0.2975 Accuracy 0.9015\n",
            "Epoch 9 Batch 50 Loss 0.3332 Accuracy 0.8948\n",
            "Epoch 9 Batch 100 Loss 0.3329 Accuracy 0.8948\n",
            "Epoch 9 Batch 150 Loss 0.3309 Accuracy 0.8954\n",
            "Epoch 9 Batch 200 Loss 0.3270 Accuracy 0.8958\n",
            "Epoch 9 Batch 250 Loss 0.3272 Accuracy 0.8959\n",
            "Epoch 9 Batch 300 Loss 0.3263 Accuracy 0.8959\n",
            "Epoch 9 Batch 350 Loss 0.3244 Accuracy 0.8962\n",
            "Epoch 9 Batch 400 Loss 0.3232 Accuracy 0.8965\n",
            "Epoch 9 Batch 450 Loss 0.3214 Accuracy 0.8971\n",
            "Epoch 9 Batch 500 Loss 0.3209 Accuracy 0.8973\n",
            "Epoch 9 Batch 550 Loss 0.3203 Accuracy 0.8975\n",
            "Epoch 9 Batch 600 Loss 0.3184 Accuracy 0.8981\n",
            "Epoch 9 Batch 650 Loss 0.3177 Accuracy 0.8984\n",
            "Epoch 9 Batch 700 Loss 0.3165 Accuracy 0.8986\n",
            "Epoch 9 Batch 750 Loss 0.3157 Accuracy 0.8988\n",
            "Epoch 9 Batch 800 Loss 0.3151 Accuracy 0.8990\n",
            "Epoch 9 Loss 0.3149 Accuracy 0.8990\n",
            "Epoch 9 Val_Loss 0.2850 Val_Accuracy 0.9080\n",
            "Time taken for 1 epoch: 135.30708765983582 secs\n",
            "\n",
            "Epoch 10 Batch 0 Loss 0.2868 Accuracy 0.9030\n",
            "Epoch 10 Batch 50 Loss 0.2974 Accuracy 0.9035\n",
            "Epoch 10 Batch 100 Loss 0.2999 Accuracy 0.9024\n",
            "Epoch 10 Batch 150 Loss 0.2994 Accuracy 0.9032\n",
            "Epoch 10 Batch 200 Loss 0.2984 Accuracy 0.9034\n",
            "Epoch 10 Batch 250 Loss 0.2982 Accuracy 0.9036\n",
            "Epoch 10 Batch 300 Loss 0.2977 Accuracy 0.9038\n",
            "Epoch 10 Batch 350 Loss 0.2963 Accuracy 0.9044\n",
            "Epoch 10 Batch 400 Loss 0.2954 Accuracy 0.9046\n",
            "Epoch 10 Batch 450 Loss 0.2937 Accuracy 0.9051\n",
            "Epoch 10 Batch 500 Loss 0.2943 Accuracy 0.9050\n",
            "Epoch 10 Batch 550 Loss 0.2941 Accuracy 0.9052\n",
            "Epoch 10 Batch 600 Loss 0.2929 Accuracy 0.9057\n",
            "Epoch 10 Batch 650 Loss 0.2920 Accuracy 0.9059\n",
            "Epoch 10 Batch 700 Loss 0.2915 Accuracy 0.9059\n",
            "Epoch 10 Batch 750 Loss 0.2910 Accuracy 0.9060\n",
            "Epoch 10 Batch 800 Loss 0.2905 Accuracy 0.9062\n",
            "Saving checkpoint for epoch 10 at ./checkpoints/train/ckpt-2\n",
            "Epoch 10 Loss 0.2902 Accuracy 0.9063\n",
            "Epoch 10 Val_Loss 0.2669 Val_Accuracy 0.9144\n",
            "Time taken for 1 epoch: 134.85404205322266 secs\n",
            "\n",
            "Epoch 11 Batch 0 Loss 0.2913 Accuracy 0.9085\n",
            "Epoch 11 Batch 50 Loss 0.2720 Accuracy 0.9103\n",
            "Epoch 11 Batch 100 Loss 0.2763 Accuracy 0.9097\n",
            "Epoch 11 Batch 150 Loss 0.2770 Accuracy 0.9098\n",
            "Epoch 11 Batch 200 Loss 0.2775 Accuracy 0.9100\n",
            "Epoch 11 Batch 250 Loss 0.2754 Accuracy 0.9104\n",
            "Epoch 11 Batch 300 Loss 0.2748 Accuracy 0.9105\n",
            "Epoch 11 Batch 350 Loss 0.2742 Accuracy 0.9108\n",
            "Epoch 11 Batch 400 Loss 0.2741 Accuracy 0.9109\n",
            "Epoch 11 Batch 450 Loss 0.2729 Accuracy 0.9111\n",
            "Epoch 11 Batch 500 Loss 0.2727 Accuracy 0.9111\n",
            "Epoch 11 Batch 550 Loss 0.2722 Accuracy 0.9114\n",
            "Epoch 11 Batch 600 Loss 0.2715 Accuracy 0.9117\n",
            "Epoch 11 Batch 650 Loss 0.2712 Accuracy 0.9117\n",
            "Epoch 11 Batch 700 Loss 0.2704 Accuracy 0.9120\n",
            "Epoch 11 Batch 750 Loss 0.2698 Accuracy 0.9122\n",
            "Epoch 11 Batch 800 Loss 0.2693 Accuracy 0.9123\n",
            "Epoch 11 Loss 0.2695 Accuracy 0.9123\n",
            "Epoch 11 Val_Loss 0.2572 Val_Accuracy 0.9189\n",
            "Time taken for 1 epoch: 135.34620666503906 secs\n",
            "\n",
            "Epoch 12 Batch 0 Loss 0.2342 Accuracy 0.9202\n",
            "Epoch 12 Batch 50 Loss 0.2600 Accuracy 0.9147\n",
            "Epoch 12 Batch 100 Loss 0.2624 Accuracy 0.9146\n",
            "Epoch 12 Batch 150 Loss 0.2595 Accuracy 0.9154\n",
            "Epoch 12 Batch 200 Loss 0.2579 Accuracy 0.9158\n",
            "Epoch 12 Batch 250 Loss 0.2578 Accuracy 0.9158\n",
            "Epoch 12 Batch 300 Loss 0.2572 Accuracy 0.9159\n",
            "Epoch 12 Batch 350 Loss 0.2564 Accuracy 0.9162\n",
            "Epoch 12 Batch 400 Loss 0.2560 Accuracy 0.9163\n",
            "Epoch 12 Batch 450 Loss 0.2558 Accuracy 0.9164\n",
            "Epoch 12 Batch 500 Loss 0.2556 Accuracy 0.9163\n",
            "Epoch 12 Batch 550 Loss 0.2552 Accuracy 0.9164\n",
            "Epoch 12 Batch 600 Loss 0.2544 Accuracy 0.9167\n",
            "Epoch 12 Batch 650 Loss 0.2541 Accuracy 0.9168\n",
            "Epoch 12 Batch 700 Loss 0.2539 Accuracy 0.9168\n",
            "Epoch 12 Batch 750 Loss 0.2534 Accuracy 0.9170\n",
            "Epoch 12 Batch 800 Loss 0.2530 Accuracy 0.9172\n",
            "Epoch 12 Loss 0.2529 Accuracy 0.9172\n",
            "Epoch 12 Val_Loss 0.2490 Val_Accuracy 0.9203\n",
            "Time taken for 1 epoch: 135.2303125858307 secs\n",
            "\n",
            "Epoch 13 Batch 0 Loss 0.2256 Accuracy 0.9229\n",
            "Epoch 13 Batch 50 Loss 0.2405 Accuracy 0.9207\n",
            "Epoch 13 Batch 100 Loss 0.2473 Accuracy 0.9190\n",
            "Epoch 13 Batch 150 Loss 0.2467 Accuracy 0.9194\n",
            "Epoch 13 Batch 200 Loss 0.2443 Accuracy 0.9200\n",
            "Epoch 13 Batch 250 Loss 0.2439 Accuracy 0.9202\n",
            "Epoch 13 Batch 300 Loss 0.2431 Accuracy 0.9202\n",
            "Epoch 13 Batch 350 Loss 0.2428 Accuracy 0.9202\n",
            "Epoch 13 Batch 400 Loss 0.2421 Accuracy 0.9205\n",
            "Epoch 13 Batch 450 Loss 0.2413 Accuracy 0.9208\n",
            "Epoch 13 Batch 500 Loss 0.2412 Accuracy 0.9208\n",
            "Epoch 13 Batch 550 Loss 0.2412 Accuracy 0.9207\n",
            "Epoch 13 Batch 600 Loss 0.2408 Accuracy 0.9210\n",
            "Epoch 13 Batch 650 Loss 0.2405 Accuracy 0.9210\n",
            "Epoch 13 Batch 700 Loss 0.2401 Accuracy 0.9211\n",
            "Epoch 13 Batch 750 Loss 0.2399 Accuracy 0.9211\n",
            "Epoch 13 Batch 800 Loss 0.2396 Accuracy 0.9212\n",
            "Epoch 13 Loss 0.2397 Accuracy 0.9211\n",
            "Epoch 13 Val_Loss 0.2434 Val_Accuracy 0.9228\n",
            "Time taken for 1 epoch: 135.16545224189758 secs\n",
            "\n",
            "Epoch 14 Batch 0 Loss 0.1906 Accuracy 0.9351\n",
            "Epoch 14 Batch 50 Loss 0.2312 Accuracy 0.9234\n",
            "Epoch 14 Batch 100 Loss 0.2295 Accuracy 0.9238\n",
            "Epoch 14 Batch 150 Loss 0.2310 Accuracy 0.9235\n",
            "Epoch 14 Batch 200 Loss 0.2291 Accuracy 0.9243\n",
            "Epoch 14 Batch 250 Loss 0.2293 Accuracy 0.9243\n",
            "Epoch 14 Batch 300 Loss 0.2289 Accuracy 0.9243\n",
            "Epoch 14 Batch 350 Loss 0.2287 Accuracy 0.9243\n",
            "Epoch 14 Batch 400 Loss 0.2281 Accuracy 0.9244\n",
            "Epoch 14 Batch 450 Loss 0.2269 Accuracy 0.9248\n",
            "Epoch 14 Batch 500 Loss 0.2273 Accuracy 0.9247\n",
            "Epoch 14 Batch 550 Loss 0.2278 Accuracy 0.9246\n",
            "Epoch 14 Batch 600 Loss 0.2271 Accuracy 0.9248\n",
            "Epoch 14 Batch 650 Loss 0.2272 Accuracy 0.9247\n",
            "Epoch 14 Batch 700 Loss 0.2269 Accuracy 0.9247\n",
            "Epoch 14 Batch 750 Loss 0.2266 Accuracy 0.9247\n",
            "Epoch 14 Batch 800 Loss 0.2265 Accuracy 0.9248\n",
            "Epoch 14 Loss 0.2267 Accuracy 0.9248\n",
            "Epoch 14 Val_Loss 0.2403 Val_Accuracy 0.9233\n",
            "Time taken for 1 epoch: 135.2487108707428 secs\n",
            "\n",
            "Epoch 15 Batch 0 Loss 0.1914 Accuracy 0.9350\n",
            "Epoch 15 Batch 50 Loss 0.2189 Accuracy 0.9275\n",
            "Epoch 15 Batch 100 Loss 0.2170 Accuracy 0.9282\n",
            "Epoch 15 Batch 150 Loss 0.2186 Accuracy 0.9276\n",
            "Epoch 15 Batch 200 Loss 0.2183 Accuracy 0.9276\n",
            "Epoch 15 Batch 250 Loss 0.2187 Accuracy 0.9274\n",
            "Epoch 15 Batch 300 Loss 0.2189 Accuracy 0.9276\n",
            "Epoch 15 Batch 350 Loss 0.2186 Accuracy 0.9277\n",
            "Epoch 15 Batch 400 Loss 0.2183 Accuracy 0.9278\n",
            "Epoch 15 Batch 450 Loss 0.2179 Accuracy 0.9280\n",
            "Epoch 15 Batch 500 Loss 0.2178 Accuracy 0.9279\n",
            "Epoch 15 Batch 550 Loss 0.2176 Accuracy 0.9280\n",
            "Epoch 15 Batch 600 Loss 0.2169 Accuracy 0.9282\n",
            "Epoch 15 Batch 650 Loss 0.2169 Accuracy 0.9281\n",
            "Epoch 15 Batch 700 Loss 0.2165 Accuracy 0.9282\n",
            "Epoch 15 Batch 750 Loss 0.2164 Accuracy 0.9282\n",
            "Epoch 15 Batch 800 Loss 0.2164 Accuracy 0.9282\n",
            "Saving checkpoint for epoch 15 at ./checkpoints/train/ckpt-3\n",
            "Epoch 15 Loss 0.2165 Accuracy 0.9280\n",
            "Epoch 15 Val_Loss 0.2409 Val_Accuracy 0.9249\n",
            "Time taken for 1 epoch: 135.86571884155273 secs\n",
            "\n",
            "Epoch 16 Batch 0 Loss 0.1910 Accuracy 0.9343\n",
            "Epoch 16 Batch 50 Loss 0.2109 Accuracy 0.9299\n",
            "Epoch 16 Batch 100 Loss 0.2114 Accuracy 0.9299\n",
            "Epoch 16 Batch 150 Loss 0.2108 Accuracy 0.9299\n",
            "Epoch 16 Batch 200 Loss 0.2087 Accuracy 0.9306\n",
            "Epoch 16 Batch 250 Loss 0.2083 Accuracy 0.9306\n",
            "Epoch 16 Batch 300 Loss 0.2091 Accuracy 0.9304\n",
            "Epoch 16 Batch 350 Loss 0.2088 Accuracy 0.9304\n",
            "Epoch 16 Batch 400 Loss 0.2081 Accuracy 0.9306\n",
            "Epoch 16 Batch 450 Loss 0.2081 Accuracy 0.9307\n",
            "Epoch 16 Batch 500 Loss 0.2083 Accuracy 0.9305\n",
            "Epoch 16 Batch 550 Loss 0.2083 Accuracy 0.9306\n",
            "Epoch 16 Batch 600 Loss 0.2076 Accuracy 0.9306\n",
            "Epoch 16 Batch 650 Loss 0.2071 Accuracy 0.9308\n",
            "Epoch 16 Batch 700 Loss 0.2068 Accuracy 0.9309\n",
            "Epoch 16 Batch 750 Loss 0.2066 Accuracy 0.9310\n",
            "Epoch 16 Batch 800 Loss 0.2065 Accuracy 0.9310\n",
            "Epoch 16 Loss 0.2067 Accuracy 0.9309\n",
            "Epoch 16 Val_Loss 0.2370 Val_Accuracy 0.9261\n",
            "Time taken for 1 epoch: 135.95407891273499 secs\n",
            "\n",
            "Epoch 17 Batch 0 Loss 0.1907 Accuracy 0.9385\n",
            "Epoch 17 Batch 50 Loss 0.1972 Accuracy 0.9354\n",
            "Epoch 17 Batch 100 Loss 0.1994 Accuracy 0.9335\n",
            "Epoch 17 Batch 150 Loss 0.2009 Accuracy 0.9329\n",
            "Epoch 17 Batch 200 Loss 0.1997 Accuracy 0.9329\n",
            "Epoch 17 Batch 250 Loss 0.1999 Accuracy 0.9329\n",
            "Epoch 17 Batch 300 Loss 0.2002 Accuracy 0.9327\n",
            "Epoch 17 Batch 350 Loss 0.1998 Accuracy 0.9330\n",
            "Epoch 17 Batch 400 Loss 0.1993 Accuracy 0.9329\n",
            "Epoch 17 Batch 450 Loss 0.1986 Accuracy 0.9332\n",
            "Epoch 17 Batch 500 Loss 0.1990 Accuracy 0.9330\n",
            "Epoch 17 Batch 550 Loss 0.1991 Accuracy 0.9330\n",
            "Epoch 17 Batch 600 Loss 0.1987 Accuracy 0.9331\n",
            "Epoch 17 Batch 650 Loss 0.1986 Accuracy 0.9331\n",
            "Epoch 17 Batch 700 Loss 0.1986 Accuracy 0.9332\n",
            "Epoch 17 Batch 750 Loss 0.1986 Accuracy 0.9332\n",
            "Epoch 17 Batch 800 Loss 0.1989 Accuracy 0.9331\n",
            "Epoch 17 Loss 0.1991 Accuracy 0.9331\n",
            "Epoch 17 Val_Loss 0.2300 Val_Accuracy 0.9275\n",
            "Time taken for 1 epoch: 135.55115818977356 secs\n",
            "\n",
            "Epoch 18 Batch 0 Loss 0.1591 Accuracy 0.9434\n",
            "Epoch 18 Batch 50 Loss 0.1959 Accuracy 0.9354\n",
            "Epoch 18 Batch 100 Loss 0.1984 Accuracy 0.9340\n",
            "Epoch 18 Batch 150 Loss 0.1957 Accuracy 0.9344\n",
            "Epoch 18 Batch 200 Loss 0.1935 Accuracy 0.9349\n",
            "Epoch 18 Batch 250 Loss 0.1932 Accuracy 0.9353\n",
            "Epoch 18 Batch 300 Loss 0.1936 Accuracy 0.9350\n",
            "Epoch 18 Batch 350 Loss 0.1928 Accuracy 0.9352\n",
            "Epoch 18 Batch 400 Loss 0.1920 Accuracy 0.9354\n",
            "Epoch 18 Batch 450 Loss 0.1916 Accuracy 0.9356\n",
            "Epoch 18 Batch 500 Loss 0.1917 Accuracy 0.9356\n",
            "Epoch 18 Batch 550 Loss 0.1921 Accuracy 0.9357\n",
            "Epoch 18 Batch 600 Loss 0.1916 Accuracy 0.9358\n",
            "Epoch 18 Batch 650 Loss 0.1914 Accuracy 0.9357\n",
            "Epoch 18 Batch 700 Loss 0.1912 Accuracy 0.9358\n",
            "Epoch 18 Batch 750 Loss 0.1913 Accuracy 0.9357\n",
            "Epoch 18 Batch 800 Loss 0.1911 Accuracy 0.9357\n",
            "Epoch 18 Loss 0.1912 Accuracy 0.9357\n",
            "Epoch 18 Val_Loss 0.2319 Val_Accuracy 0.9275\n",
            "Time taken for 1 epoch: 135.80308628082275 secs\n",
            "\n",
            "Epoch 19 Batch 0 Loss 0.2239 Accuracy 0.9348\n",
            "Epoch 19 Batch 50 Loss 0.1913 Accuracy 0.9363\n",
            "Epoch 19 Batch 100 Loss 0.1886 Accuracy 0.9362\n",
            "Epoch 19 Batch 150 Loss 0.1874 Accuracy 0.9365\n",
            "Epoch 19 Batch 200 Loss 0.1852 Accuracy 0.9372\n",
            "Epoch 19 Batch 250 Loss 0.1859 Accuracy 0.9371\n",
            "Epoch 19 Batch 300 Loss 0.1856 Accuracy 0.9371\n",
            "Epoch 19 Batch 350 Loss 0.1854 Accuracy 0.9372\n",
            "Epoch 19 Batch 400 Loss 0.1855 Accuracy 0.9373\n",
            "Epoch 19 Batch 450 Loss 0.1848 Accuracy 0.9375\n",
            "Epoch 19 Batch 500 Loss 0.1849 Accuracy 0.9375\n",
            "Epoch 19 Batch 550 Loss 0.1847 Accuracy 0.9377\n",
            "Epoch 19 Batch 600 Loss 0.1846 Accuracy 0.9376\n",
            "Epoch 19 Batch 650 Loss 0.1844 Accuracy 0.9377\n",
            "Epoch 19 Batch 700 Loss 0.1840 Accuracy 0.9378\n",
            "Epoch 19 Batch 750 Loss 0.1840 Accuracy 0.9378\n",
            "Epoch 19 Batch 800 Loss 0.1841 Accuracy 0.9377\n",
            "Epoch 19 Loss 0.1841 Accuracy 0.9376\n",
            "Epoch 19 Val_Loss 0.2302 Val_Accuracy 0.9287\n",
            "Time taken for 1 epoch: 135.46538043022156 secs\n",
            "\n",
            "Epoch 20 Batch 0 Loss 0.1742 Accuracy 0.9403\n",
            "Epoch 20 Batch 50 Loss 0.1831 Accuracy 0.9381\n",
            "Epoch 20 Batch 100 Loss 0.1832 Accuracy 0.9382\n",
            "Epoch 20 Batch 150 Loss 0.1827 Accuracy 0.9382\n",
            "Epoch 20 Batch 200 Loss 0.1809 Accuracy 0.9390\n",
            "Epoch 20 Batch 250 Loss 0.1811 Accuracy 0.9391\n",
            "Epoch 20 Batch 300 Loss 0.1811 Accuracy 0.9391\n",
            "Epoch 20 Batch 350 Loss 0.1807 Accuracy 0.9391\n",
            "Epoch 20 Batch 400 Loss 0.1806 Accuracy 0.9391\n",
            "Epoch 20 Batch 450 Loss 0.1807 Accuracy 0.9392\n",
            "Epoch 20 Batch 500 Loss 0.1805 Accuracy 0.9392\n",
            "Epoch 20 Batch 550 Loss 0.1806 Accuracy 0.9391\n",
            "Epoch 20 Batch 600 Loss 0.1799 Accuracy 0.9393\n",
            "Epoch 20 Batch 650 Loss 0.1798 Accuracy 0.9393\n",
            "Epoch 20 Batch 700 Loss 0.1794 Accuracy 0.9393\n",
            "Epoch 20 Batch 750 Loss 0.1795 Accuracy 0.9393\n",
            "Epoch 20 Batch 800 Loss 0.1791 Accuracy 0.9394\n",
            "Saving checkpoint for epoch 20 at ./checkpoints/train/ckpt-4\n",
            "Epoch 20 Loss 0.1791 Accuracy 0.9395\n",
            "Epoch 20 Val_Loss 0.2295 Val_Accuracy 0.9286\n",
            "Time taken for 1 epoch: 136.44539403915405 secs\n",
            "\n"
          ],
          "name": "stdout"
        }
      ]
    },
    {
      "cell_type": "code",
      "metadata": {
        "id": "6R5z0EbGDqjn",
        "colab_type": "code",
        "colab": {
          "base_uri": "https://localhost:8080/",
          "height": 255
        },
        "outputId": "78f25579-8c4a-4738-a5ea-679aa27569dc"
      },
      "source": [
        "transformer.summary()"
      ],
      "execution_count": 39,
      "outputs": [
        {
          "output_type": "stream",
          "text": [
            "Model: \"transformer\"\n",
            "_________________________________________________________________\n",
            "Layer (type)                 Output Shape              Param #   \n",
            "=================================================================\n",
            "encoder (Encoder)            multiple                  1807232   \n",
            "_________________________________________________________________\n",
            "decoder (Decoder)            multiple                  1063936   \n",
            "_________________________________________________________________\n",
            "dense_64 (Dense)             multiple                  5676      \n",
            "=================================================================\n",
            "Total params: 2,876,844\n",
            "Trainable params: 2,876,844\n",
            "Non-trainable params: 0\n",
            "_________________________________________________________________\n"
          ],
          "name": "stdout"
        }
      ]
    },
    {
      "cell_type": "markdown",
      "metadata": {
        "id": "IS9izeO_scrC",
        "colab_type": "text"
      },
      "source": [
        "### Visualize Loss and Accuracy "
      ]
    },
    {
      "cell_type": "code",
      "metadata": {
        "id": "nA02277SsgYw",
        "colab_type": "code",
        "colab": {
          "base_uri": "https://localhost:8080/",
          "height": 607
        },
        "outputId": "29aa22c0-636a-4504-d397-71b5dbc1a70e"
      },
      "source": [
        "import matplotlib.image  as mpimg\n",
        "import matplotlib.pyplot as plt\n",
        "\n",
        "#-----------------------------------------------------------\n",
        "# Retrieve a list of list results on training and test data\n",
        "# sets for each training epoch\n",
        "#-----------------------------------------------------------\n",
        "train_acc = history['accuracy']\n",
        "val_acc = history['val_accuracy']\n",
        "train_loss = history['loss']\n",
        "val_loss = history['val_loss']\n",
        "\n",
        "epochs=range(1, len(train_acc)+1) # Get number of epochs\n",
        "\n",
        "#------------------------------------------------\n",
        "# Plot Training Vs Validation Accuracy\n",
        "#------------------------------------------------\n",
        "plt.plot(epochs, train_acc)\n",
        "plt.plot(epochs, val_acc)\n",
        "plt.title('Accuracy')\n",
        "plt.xlabel(\"Epochs\")\n",
        "plt.ylabel(\"Accuracy\")\n",
        "plt.grid(True)\n",
        "plt.legend([\"Training\", \"Validation\"])\n",
        "\n",
        "plt.figure()\n",
        "\n",
        "#------------------------------------------------\n",
        "# Plot Training Vs Validation Loss\n",
        "#------------------------------------------------\n",
        "plt.plot(epochs, train_loss)\n",
        "plt.plot(epochs, val_loss)\n",
        "plt.title('Loss')\n",
        "plt.xlabel(\"Epochs\")\n",
        "plt.ylabel(\"Loss\")\n",
        "plt.grid(True)\n",
        "plt.legend([\"Training\", \"Validation\"])\n",
        "\n",
        "plt.figure()"
      ],
      "execution_count": 40,
      "outputs": [
        {
          "output_type": "execute_result",
          "data": {
            "text/plain": [
              "<Figure size 432x288 with 0 Axes>"
            ]
          },
          "metadata": {
            "tags": []
          },
          "execution_count": 40
        },
        {
          "output_type": "display_data",
          "data": {
            "image/png": "[encoded data removed]",
            "text/plain": [
              "<Figure size 432x288 with 1 Axes>"
            ]
          },
          "metadata": {
            "tags": [],
            "needs_background": "light"
          }
        },
        {
          "output_type": "display_data",
          "data": {
            "image/png": "[encoded data removed]",
            "text/plain": [
              "<Figure size 432x288 with 1 Axes>"
            ]
          },
          "metadata": {
            "tags": [],
            "needs_background": "light"
          }
        },
        {
          "output_type": "display_data",
          "data": {
            "text/plain": [
              "<Figure size 432x288 with 0 Axes>"
            ]
          },
          "metadata": {
            "tags": []
          }
        }
      ]
    },
    {
      "cell_type": "markdown",
      "metadata": {
        "id": "V6dl8o9qpSNK",
        "colab_type": "text"
      },
      "source": [
        "## Prediction"
      ]
    },
    {
      "cell_type": "markdown",
      "metadata": {
        "id": "FGFjb_5-4ywU",
        "colab_type": "text"
      },
      "source": [
        "### Inference Helpers"
      ]
    },
    {
      "cell_type": "code",
      "metadata": {
        "id": "SQx6cdAXpRAH",
        "colab_type": "code",
        "colab": {}
      },
      "source": [
        "def evaluate(inp_word):\n",
        "  start_token = [word_tokenizer.vocab_size]\n",
        "  end_token = [word_tokenizer.vocab_size + 1]\n",
        "  \n",
        "  # inp sentence is word, hence adding the start and end token\n",
        "  inp_sentence = start_token + word_tokenizer.encode(inp_word.upper()) + end_token\n",
        "  encoder_input = tf.expand_dims(inp_sentence, 0)\n",
        "  \n",
        "  # as the target is pronunciation, the first word to the transformer should be the\n",
        "  # pron start token\n",
        "  decoder_input = [pron_tokenizer.vocab_size]\n",
        "  output = tf.expand_dims(decoder_input, 0)\n",
        "    \n",
        "  for i in range(MAX_LENGTH):\n",
        "    enc_padding_mask, combined_mask, dec_padding_mask = create_masks(\n",
        "        encoder_input, output)\n",
        "  \n",
        "    # predictions.shape == (batch_size, seq_len, vocab_size)\n",
        "    predictions, attention_weights = transformer(encoder_input, \n",
        "                                                 output,\n",
        "                                                 False,\n",
        "                                                 enc_padding_mask,\n",
        "                                                 combined_mask,\n",
        "                                                 dec_padding_mask)\n",
        "    \n",
        "    # select the last word from the seq_len dimension\n",
        "    predictions = predictions[: ,-1:, :]  # (batch_size, 1, vocab_size)\n",
        "\n",
        "    predicted_id = tf.cast(tf.argmax(predictions, axis=-1), tf.int32)\n",
        "    \n",
        "    # return the result if the predicted_id is equal to the end token\n",
        "    if predicted_id == pron_tokenizer.vocab_size+1:\n",
        "      return tf.squeeze(output, axis=0), attention_weights\n",
        "    \n",
        "    # concatentate the predicted_id to the output which is given to the decoder\n",
        "    # as its input.\n",
        "    output = tf.concat([output, predicted_id], axis=-1)\n",
        "\n",
        "  return tf.squeeze(output, axis=0), attention_weights"
      ],
      "execution_count": 0,
      "outputs": []
    },
    {
      "cell_type": "code",
      "metadata": {
        "id": "sz74Srs_p3tA",
        "colab_type": "code",
        "colab": {}
      },
      "source": [
        "def plot_attention_weights(attention, sentence, result, layer):\n",
        "  fig = plt.figure(figsize=(16, 8))\n",
        "  \n",
        "  sentence = word_tokenizer.encode(sentence.upper())\n",
        "  \n",
        "  attention = tf.squeeze(attention[layer], axis=0)\n",
        "  \n",
        "  for head in range(attention.shape[0]):\n",
        "    ax = fig.add_subplot(2, 4, head+1)\n",
        "    \n",
        "    # plot the attention weights\n",
        "    ax.matshow(attention[head][:-1, :], cmap='viridis')\n",
        "\n",
        "    fontdict = {'fontsize': 10}\n",
        "    \n",
        "    ax.set_xticks(range(len(sentence)+2))\n",
        "    ax.set_yticks(range(len(result)))\n",
        "    \n",
        "    ax.set_ylim(len(result)-1.5, -0.5)\n",
        "        \n",
        "    ax.set_xticklabels(\n",
        "        ['<start>']+[word_tokenizer.decode([i]) for i in sentence]+['<end>'], \n",
        "        fontdict=fontdict, rotation=90)\n",
        "    \n",
        "    ax.set_yticklabels([pron_tokenizer.decode([i]) for i in result \n",
        "                        if i < pron_tokenizer.vocab_size], \n",
        "                       fontdict=fontdict)\n",
        "    \n",
        "    ax.set_xlabel('Head {}'.format(head+1))\n",
        "  \n",
        "  plt.tight_layout()\n",
        "  plt.show()"
      ],
      "execution_count": 0,
      "outputs": []
    },
    {
      "cell_type": "code",
      "metadata": {
        "id": "wfPmtK1cp8xz",
        "colab_type": "code",
        "colab": {}
      },
      "source": [
        "def translate(word, plot=''):\n",
        "  '''\n",
        "  Return phonemic transcript for a given word.\n",
        "  Note: Works best for a single word only. Use multiple calls for each separate word\n",
        "  in a sentence.\n",
        "\n",
        "  Parameters\n",
        "  ----------\n",
        "  word : string (input word)\n",
        "  plot : string (layer to plot)\n",
        "\n",
        "  Returns\n",
        "  -------\n",
        "  string\n",
        "  '''\n",
        "  result, attention_weights = evaluate(word)\n",
        "  \n",
        "  predicted_pron = pron_tokenizer.decode([i for i in result \n",
        "                                            if i < pron_tokenizer.vocab_size])    \n",
        "  if plot:\n",
        "    plot_attention_weights(attention_weights, word, result, plot)\n",
        "  return predicted_pron"
      ],
      "execution_count": 0,
      "outputs": []
    },
    {
      "cell_type": "code",
      "metadata": {
        "id": "OGOrG3GUp_aK",
        "colab_type": "code",
        "colab": {
          "base_uri": "https://localhost:8080/",
          "height": 344
        },
        "outputId": "93cb79de-0d83-4e60-ff9a-2e2485b09210"
      },
      "source": [
        "predicted = translate(\"bedside\", plot = \"decoder_layer4_block2\")\n",
        "print(f\"Our translation: {predicted}\") \n",
        "print(\"Real translation: B EH D S AY D\")"
      ],
      "execution_count": 44,
      "outputs": [
        {
          "output_type": "display_data",
          "data": {
            "image/png": "[encoded data removed]",
            "text/plain": [
              "<Figure size 1152x576 with 4 Axes>"
            ]
          },
          "metadata": {
            "tags": [],
            "needs_background": "light"
          }
        },
        {
          "output_type": "stream",
          "text": [
            "Our translation: B EH D S AY D\n",
            "Real translation: B EH D S AY D\n"
          ],
          "name": "stdout"
        }
      ]
    },
    {
      "cell_type": "markdown",
      "metadata": {
        "id": "lS9ByaVt4sRQ",
        "colab_type": "text"
      },
      "source": [
        "### Compute WER or PER"
      ]
    },
    {
      "cell_type": "code",
      "metadata": {
        "id": "333zsuUr0Vzn",
        "colab_type": "code",
        "colab": {}
      },
      "source": [
        "def wed(r, h):\n",
        "    \"\"\"\n",
        "    Source - https://holianh.github.io/portfolio/Cach-tinh-WER/\n",
        "    Word Edit Distance.\n",
        "\n",
        "    Works only for iterables up to 254 elements (uint8).\n",
        "    O(nm) time ans space complexity.\n",
        "\n",
        "    Parameters\n",
        "    ----------\n",
        "    r : list\n",
        "    h : list\n",
        "\n",
        "    Returns\n",
        "    -------\n",
        "    int\n",
        "\n",
        "    Examples\n",
        "    --------\n",
        "    >>> wed(\"who is there\".split(), \"is there\".split())\n",
        "    1\n",
        "    >>> wed(\"who is there\".split(), \"\".split())\n",
        "    3\n",
        "    >>> wed(\"\".split(), \"who is there\".split())\n",
        "    3\n",
        "    \"\"\"\n",
        "    # initialisation\n",
        "    import numpy\n",
        "    d = numpy.zeros((len(r)+1)*(len(h)+1), dtype=numpy.uint8)\n",
        "    d = d.reshape((len(r)+1, len(h)+1))\n",
        "    for i in range(len(r)+1):\n",
        "        for j in range(len(h)+1):\n",
        "            if i == 0:\n",
        "                d[0][j] = j\n",
        "            elif j == 0:\n",
        "                d[i][0] = i\n",
        "\n",
        "    # computation\n",
        "    for i in range(1, len(r)+1):\n",
        "        for j in range(1, len(h)+1):\n",
        "            if r[i-1] == h[j-1]:\n",
        "                d[i][j] = d[i-1][j-1]\n",
        "            else:\n",
        "                substitution = d[i-1][j-1] + 1\n",
        "                insertion    = d[i][j-1] + 1\n",
        "                deletion     = d[i-1][j] + 1\n",
        "                d[i][j] = min(substitution, insertion, deletion)\n",
        "\n",
        "    return d[len(r)][len(h)]\n",
        "\n",
        "def wer(r, h):\n",
        "  return float(wed(r,h))/len(r)\n"
      ],
      "execution_count": 0,
      "outputs": []
    },
    {
      "cell_type": "code",
      "metadata": {
        "id": "sBEAXmYctxq-",
        "colab_type": "code",
        "colab": {
          "base_uri": "https://localhost:8080/",
          "height": 187
        },
        "outputId": "f17349dc-cd90-49b2-d70a-81573851a485"
      },
      "source": [
        "gt_pred = []\n",
        "start_time = time.time()\n",
        "## Just take a sample for now\n",
        "for i, (word, pron) in enumerate(zip(test_X[:1000], test_Y[:1000])):\n",
        "  prediction = translate(word)\n",
        "  if i % 100 == 0:\n",
        "    print(f\" Iteration {i} completed -> {time.time()-start_time} secs\")\n",
        "    start_time = time.time()\n",
        "  gt_pred.append((pron, prediction))"
      ],
      "execution_count": 46,
      "outputs": [
        {
          "output_type": "stream",
          "text": [
            " Iteration 0 completed -> 1.7390172481536865 secs\n",
            " Iteration 100 completed -> 106.22399735450745 secs\n",
            " Iteration 200 completed -> 104.23004341125488 secs\n",
            " Iteration 300 completed -> 105.36749458312988 secs\n",
            " Iteration 400 completed -> 105.75328040122986 secs\n",
            " Iteration 500 completed -> 106.00467658042908 secs\n",
            " Iteration 600 completed -> 106.71405053138733 secs\n",
            " Iteration 700 completed -> 112.56272745132446 secs\n",
            " Iteration 800 completed -> 105.76243805885315 secs\n",
            " Iteration 900 completed -> 101.8128764629364 secs\n"
          ],
          "name": "stdout"
        }
      ]
    },
    {
      "cell_type": "code",
      "metadata": {
        "id": "FQJQjED_4-6A",
        "colab_type": "code",
        "colab": {
          "base_uri": "https://localhost:8080/",
          "height": 34
        },
        "outputId": "6ff02d89-4d1e-4f1b-a2f7-91c204798bb0"
      },
      "source": [
        "print(f\"Phoneme Error Rate: {np.mean([ wer(r.split(\" \"), p.split(\" \")) for r, p in gt_pred ])}\")"
      ],
      "execution_count": 47,
      "outputs": [
        {
          "output_type": "stream",
          "text": [
            "0.09543929126429125\n"
          ],
          "name": "stdout"
        }
      ]
    }
  ]
}